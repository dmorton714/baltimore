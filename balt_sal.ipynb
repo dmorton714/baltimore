{
 "cells": [
  {
   "cell_type": "code",
   "execution_count": 40,
   "metadata": {},
   "outputs": [],
   "source": [
    "import pandas as pd \n",
    "import numpy as np\n",
    "import re\n",
    "import matplotlib as plt \n",
    "import seaborn as sns\n",
    "import plotly.express as px\n",
    "import plotly.graph_objects as go\n",
    "import plotly.figure_factory as ff\n",
    "# pd.set_option('display.float_format', '{:,.0f}'.format)"
   ]
  },
  {
   "cell_type": "code",
   "execution_count": 41,
   "metadata": {},
   "outputs": [],
   "source": [
    "sal = pd.read_csv('data/salary.csv')"
   ]
  },
  {
   "cell_type": "code",
   "execution_count": 42,
   "metadata": {},
   "outputs": [],
   "source": [
    "# convert HireDate to datetime\n",
    "sal['HireDate'] = pd.to_datetime(sal['HireDate'], unit='ms')\n",
    "# sal['HireDate'] = sal['HireDate'].dt.strftime('%m%d%Y')\n",
    "\n",
    "# clean FiscalYear\n",
    "sal['FiscalYear'] = sal['FiscalYear'].str.replace('^FY', '', regex=True)\n",
    "\n",
    "# drop rows with missing values in GrossPay\n",
    "sal = sal.dropna(subset=['GrossPay'])\n",
    "\n",
    "# removes the trailing number in parentheses from AgencyName\n",
    "sal['AgencyName'] = sal['AgencyName'].str.replace(r'\\s\\(\\d+\\)', '', regex=True)\n",
    "\n",
    "# strip spaces \n",
    "sal[sal.select_dtypes('object').columns] = sal[sal.select_dtypes('object').columns].apply(lambda x: x.str.strip())\n",
    "\n",
    "# List of words to replace\n",
    "replace_dict = {\n",
    "    'Police': 'Police Department',\n",
    "    'Fire': 'Fire Department',\n",
    "}\n",
    "\n",
    "# Loop through the dictionary and replace each word with regex\n",
    "for old, new in replace_dict.items():\n",
    "    sal['AgencyName'] = sal['AgencyName'].apply(lambda x: re.sub(rf'\\b{re.escape(old)}\\b(?! Department)', new, str(x)) if isinstance(x, str) else x)\n",
    "\n",
    "# Step 1: Fill JobTitle with AgencyName where JobTitle is NaN or empty if no agency name drops\n",
    "sal['JobTitle'] = sal['JobTitle'].fillna(sal['AgencyName'])\n",
    "sal['JobTitle'] = sal['JobTitle'].apply(lambda x: x if isinstance(x, str) and x.strip() != \"\" else sal['AgencyName'])\n",
    "sal = sal[sal['AgencyName'].notna() & (sal['AgencyName'].str.strip() != \"\")]\n",
    "\n",
    "# Remove rows where AnnualSalary is NaN or 0\n",
    "sal = sal[sal['AnnualSalary'].notna() & (sal['AnnualSalary'] != 0)]\n",
    "\n",
    "# Remove rows where GrossPay is NaN or 0\n",
    "sal = sal[sal['GrossPay'].notna() & (sal['GrossPay'] != 0)]\n",
    "\n",
    "# Discrepancy in amount\n",
    "sal['Pay_Discrepancy'] = sal['GrossPay'] - sal['AnnualSalary']\n",
    "\n",
    "# Discrepancy in percentage (relative to AnnualSalary)\n",
    "sal['Pay_Discrepancy_Pct'] = ((sal['GrossPay'] - sal['AnnualSalary']) / sal['AnnualSalary']) * 100\n",
    "\n"
   ]
  },
  {
   "cell_type": "code",
   "execution_count": 43,
   "metadata": {},
   "outputs": [],
   "source": [
    "## exports annual sal == 0 and gross pay > 60000\n",
    "# annual_sal_err = sal[(sal['AnnualSalary'] == 0) & (sal['GrossPay'] > 60000)]\n",
    "# annual_sal_err\n",
    "# annual_sal_err.to_csv('check_into/annual_sal_err.csv', index=False)\n"
   ]
  },
  {
   "cell_type": "code",
   "execution_count": 44,
   "metadata": {},
   "outputs": [],
   "source": [
    "# # filter by year \n",
    "\n",
    "# def filter_by_year(df, year):\n",
    "#     \"\"\"\n",
    "#     Filters the DataFrame by the given year.\n",
    "    \n",
    "#     Parameters:\n",
    "#     df (DataFrame): The DataFrame to filter.\n",
    "#     year (int): The year to filter by.\n",
    "    \n",
    "#     Returns:\n",
    "#     DataFrame: The filtered DataFrame.\n",
    "#     \"\"\"\n",
    "#     return df[df['FiscalYear'] == str(year)]\n",
    "\n",
    "# # Example usage:\n",
    "# year = 2024\n",
    "# filtered_2024 = filter_by_year(sal, year)"
   ]
  },
  {
   "cell_type": "code",
   "execution_count": 45,
   "metadata": {},
   "outputs": [],
   "source": [
    "\n",
    "# def agency_breakdown(filtered_2024):\n",
    "#     department = filtered_2024.groupby('AgencyName').agg({\n",
    "#     'AnnualSalary': 'sum',\n",
    "#     'GrossPay': 'sum',\n",
    "#     }).reset_index()\n",
    "\n",
    "#     # Now calculate discrepancies after aggregation\n",
    "#     department['Pay_Discrepancy'] = department['GrossPay'] - department['AnnualSalary']\n",
    "#     department['Pay_Discrepancy_Pct'] = (department['Pay_Discrepancy'] / department['AnnualSalary']) * 100\n",
    "\n",
    "#     department = department.sort_values(by='Pay_Discrepancy', ascending=False)\n",
    "    \n",
    "#     return department\n",
    "\n",
    "# agency_breakdown(filtered_2024)"
   ]
  },
  {
   "cell_type": "code",
   "execution_count": 46,
   "metadata": {},
   "outputs": [
    {
     "data": {
      "text/html": [
       "<div>\n",
       "<style scoped>\n",
       "    .dataframe tbody tr th:only-of-type {\n",
       "        vertical-align: middle;\n",
       "    }\n",
       "\n",
       "    .dataframe tbody tr th {\n",
       "        vertical-align: top;\n",
       "    }\n",
       "\n",
       "    .dataframe thead th {\n",
       "        text-align: right;\n",
       "    }\n",
       "</style>\n",
       "<table border=\"1\" class=\"dataframe\">\n",
       "  <thead>\n",
       "    <tr style=\"text-align: right;\">\n",
       "      <th></th>\n",
       "      <th>ID</th>\n",
       "      <th>Name</th>\n",
       "      <th>JobTitle</th>\n",
       "      <th>AgencyID</th>\n",
       "      <th>AgencyName</th>\n",
       "      <th>HireDate</th>\n",
       "      <th>AnnualSalary</th>\n",
       "      <th>GrossPay</th>\n",
       "      <th>FiscalYear</th>\n",
       "      <th>Pay_Discrepancy</th>\n",
       "      <th>Pay_Discrepancy_Pct</th>\n",
       "    </tr>\n",
       "  </thead>\n",
       "  <tbody>\n",
       "    <tr>\n",
       "      <th>0</th>\n",
       "      <td>1</td>\n",
       "      <td>Aaron,Patricia G</td>\n",
       "      <td>Facilities/Office Services II</td>\n",
       "      <td>A03</td>\n",
       "      <td>OED-Employment Dev</td>\n",
       "      <td>1979-10-24</td>\n",
       "      <td>50845.0</td>\n",
       "      <td>45505.94</td>\n",
       "      <td>2011</td>\n",
       "      <td>-5339.06</td>\n",
       "      <td>-10.500659</td>\n",
       "    </tr>\n",
       "  </tbody>\n",
       "</table>\n",
       "</div>"
      ],
      "text/plain": [
       "   ID              Name                       JobTitle AgencyID  \\\n",
       "0   1  Aaron,Patricia G  Facilities/Office Services II      A03   \n",
       "\n",
       "           AgencyName   HireDate  AnnualSalary  GrossPay FiscalYear  \\\n",
       "0  OED-Employment Dev 1979-10-24       50845.0  45505.94       2011   \n",
       "\n",
       "   Pay_Discrepancy  Pay_Discrepancy_Pct  \n",
       "0         -5339.06           -10.500659  "
      ]
     },
     "execution_count": 46,
     "metadata": {},
     "output_type": "execute_result"
    }
   ],
   "source": [
    "sal.head(1)"
   ]
  },
  {
   "cell_type": "code",
   "execution_count": 47,
   "metadata": {},
   "outputs": [
    {
     "data": {
      "application/vnd.plotly.v1+json": {
       "config": {
        "plotlyServerURL": "https://plot.ly"
       },
       "data": [
        {
         "delta": {
          "decreasing": {
           "color": "green"
          },
          "increasing": {
           "color": "red"
          },
          "reference": 881629451.94
         },
         "gauge": {
          "axis": {
           "range": [
            0,
            969792397.1340002
           ]
          },
          "bar": {
           "color": "rgba(0,0,0,0)"
          },
          "steps": [
           {
            "color": "#004080",
            "range": [
             0,
             881629451.94
            ]
           },
           {
            "color": "yellow",
            "range": [
             881629451.94,
             1020010972.66
            ]
           }
          ],
          "threshold": {
           "line": {
            "color": "red",
            "width": 4
           },
           "thickness": 0.95,
           "value": 1020010972.66
          }
         },
         "mode": "gauge+number+delta",
         "title": {
          "font": {
           "size": 20
          },
          "text": "2024 Budgeted Salary Spend vs. Salary Spend Actual"
         },
         "type": "indicator",
         "value": 1020010972.66
        }
       ],
       "layout": {
        "template": {
         "data": {
          "bar": [
           {
            "error_x": {
             "color": "#2a3f5f"
            },
            "error_y": {
             "color": "#2a3f5f"
            },
            "marker": {
             "line": {
              "color": "#E5ECF6",
              "width": 0.5
             },
             "pattern": {
              "fillmode": "overlay",
              "size": 10,
              "solidity": 0.2
             }
            },
            "type": "bar"
           }
          ],
          "barpolar": [
           {
            "marker": {
             "line": {
              "color": "#E5ECF6",
              "width": 0.5
             },
             "pattern": {
              "fillmode": "overlay",
              "size": 10,
              "solidity": 0.2
             }
            },
            "type": "barpolar"
           }
          ],
          "carpet": [
           {
            "aaxis": {
             "endlinecolor": "#2a3f5f",
             "gridcolor": "white",
             "linecolor": "white",
             "minorgridcolor": "white",
             "startlinecolor": "#2a3f5f"
            },
            "baxis": {
             "endlinecolor": "#2a3f5f",
             "gridcolor": "white",
             "linecolor": "white",
             "minorgridcolor": "white",
             "startlinecolor": "#2a3f5f"
            },
            "type": "carpet"
           }
          ],
          "choropleth": [
           {
            "colorbar": {
             "outlinewidth": 0,
             "ticks": ""
            },
            "type": "choropleth"
           }
          ],
          "contour": [
           {
            "colorbar": {
             "outlinewidth": 0,
             "ticks": ""
            },
            "colorscale": [
             [
              0,
              "#0d0887"
             ],
             [
              0.1111111111111111,
              "#46039f"
             ],
             [
              0.2222222222222222,
              "#7201a8"
             ],
             [
              0.3333333333333333,
              "#9c179e"
             ],
             [
              0.4444444444444444,
              "#bd3786"
             ],
             [
              0.5555555555555556,
              "#d8576b"
             ],
             [
              0.6666666666666666,
              "#ed7953"
             ],
             [
              0.7777777777777778,
              "#fb9f3a"
             ],
             [
              0.8888888888888888,
              "#fdca26"
             ],
             [
              1,
              "#f0f921"
             ]
            ],
            "type": "contour"
           }
          ],
          "contourcarpet": [
           {
            "colorbar": {
             "outlinewidth": 0,
             "ticks": ""
            },
            "type": "contourcarpet"
           }
          ],
          "heatmap": [
           {
            "colorbar": {
             "outlinewidth": 0,
             "ticks": ""
            },
            "colorscale": [
             [
              0,
              "#0d0887"
             ],
             [
              0.1111111111111111,
              "#46039f"
             ],
             [
              0.2222222222222222,
              "#7201a8"
             ],
             [
              0.3333333333333333,
              "#9c179e"
             ],
             [
              0.4444444444444444,
              "#bd3786"
             ],
             [
              0.5555555555555556,
              "#d8576b"
             ],
             [
              0.6666666666666666,
              "#ed7953"
             ],
             [
              0.7777777777777778,
              "#fb9f3a"
             ],
             [
              0.8888888888888888,
              "#fdca26"
             ],
             [
              1,
              "#f0f921"
             ]
            ],
            "type": "heatmap"
           }
          ],
          "histogram": [
           {
            "marker": {
             "pattern": {
              "fillmode": "overlay",
              "size": 10,
              "solidity": 0.2
             }
            },
            "type": "histogram"
           }
          ],
          "histogram2d": [
           {
            "colorbar": {
             "outlinewidth": 0,
             "ticks": ""
            },
            "colorscale": [
             [
              0,
              "#0d0887"
             ],
             [
              0.1111111111111111,
              "#46039f"
             ],
             [
              0.2222222222222222,
              "#7201a8"
             ],
             [
              0.3333333333333333,
              "#9c179e"
             ],
             [
              0.4444444444444444,
              "#bd3786"
             ],
             [
              0.5555555555555556,
              "#d8576b"
             ],
             [
              0.6666666666666666,
              "#ed7953"
             ],
             [
              0.7777777777777778,
              "#fb9f3a"
             ],
             [
              0.8888888888888888,
              "#fdca26"
             ],
             [
              1,
              "#f0f921"
             ]
            ],
            "type": "histogram2d"
           }
          ],
          "histogram2dcontour": [
           {
            "colorbar": {
             "outlinewidth": 0,
             "ticks": ""
            },
            "colorscale": [
             [
              0,
              "#0d0887"
             ],
             [
              0.1111111111111111,
              "#46039f"
             ],
             [
              0.2222222222222222,
              "#7201a8"
             ],
             [
              0.3333333333333333,
              "#9c179e"
             ],
             [
              0.4444444444444444,
              "#bd3786"
             ],
             [
              0.5555555555555556,
              "#d8576b"
             ],
             [
              0.6666666666666666,
              "#ed7953"
             ],
             [
              0.7777777777777778,
              "#fb9f3a"
             ],
             [
              0.8888888888888888,
              "#fdca26"
             ],
             [
              1,
              "#f0f921"
             ]
            ],
            "type": "histogram2dcontour"
           }
          ],
          "mesh3d": [
           {
            "colorbar": {
             "outlinewidth": 0,
             "ticks": ""
            },
            "type": "mesh3d"
           }
          ],
          "parcoords": [
           {
            "line": {
             "colorbar": {
              "outlinewidth": 0,
              "ticks": ""
             }
            },
            "type": "parcoords"
           }
          ],
          "pie": [
           {
            "automargin": true,
            "type": "pie"
           }
          ],
          "scatter": [
           {
            "fillpattern": {
             "fillmode": "overlay",
             "size": 10,
             "solidity": 0.2
            },
            "type": "scatter"
           }
          ],
          "scatter3d": [
           {
            "line": {
             "colorbar": {
              "outlinewidth": 0,
              "ticks": ""
             }
            },
            "marker": {
             "colorbar": {
              "outlinewidth": 0,
              "ticks": ""
             }
            },
            "type": "scatter3d"
           }
          ],
          "scattercarpet": [
           {
            "marker": {
             "colorbar": {
              "outlinewidth": 0,
              "ticks": ""
             }
            },
            "type": "scattercarpet"
           }
          ],
          "scattergeo": [
           {
            "marker": {
             "colorbar": {
              "outlinewidth": 0,
              "ticks": ""
             }
            },
            "type": "scattergeo"
           }
          ],
          "scattergl": [
           {
            "marker": {
             "colorbar": {
              "outlinewidth": 0,
              "ticks": ""
             }
            },
            "type": "scattergl"
           }
          ],
          "scattermap": [
           {
            "marker": {
             "colorbar": {
              "outlinewidth": 0,
              "ticks": ""
             }
            },
            "type": "scattermap"
           }
          ],
          "scattermapbox": [
           {
            "marker": {
             "colorbar": {
              "outlinewidth": 0,
              "ticks": ""
             }
            },
            "type": "scattermapbox"
           }
          ],
          "scatterpolar": [
           {
            "marker": {
             "colorbar": {
              "outlinewidth": 0,
              "ticks": ""
             }
            },
            "type": "scatterpolar"
           }
          ],
          "scatterpolargl": [
           {
            "marker": {
             "colorbar": {
              "outlinewidth": 0,
              "ticks": ""
             }
            },
            "type": "scatterpolargl"
           }
          ],
          "scatterternary": [
           {
            "marker": {
             "colorbar": {
              "outlinewidth": 0,
              "ticks": ""
             }
            },
            "type": "scatterternary"
           }
          ],
          "surface": [
           {
            "colorbar": {
             "outlinewidth": 0,
             "ticks": ""
            },
            "colorscale": [
             [
              0,
              "#0d0887"
             ],
             [
              0.1111111111111111,
              "#46039f"
             ],
             [
              0.2222222222222222,
              "#7201a8"
             ],
             [
              0.3333333333333333,
              "#9c179e"
             ],
             [
              0.4444444444444444,
              "#bd3786"
             ],
             [
              0.5555555555555556,
              "#d8576b"
             ],
             [
              0.6666666666666666,
              "#ed7953"
             ],
             [
              0.7777777777777778,
              "#fb9f3a"
             ],
             [
              0.8888888888888888,
              "#fdca26"
             ],
             [
              1,
              "#f0f921"
             ]
            ],
            "type": "surface"
           }
          ],
          "table": [
           {
            "cells": {
             "fill": {
              "color": "#EBF0F8"
             },
             "line": {
              "color": "white"
             }
            },
            "header": {
             "fill": {
              "color": "#C8D4E3"
             },
             "line": {
              "color": "white"
             }
            },
            "type": "table"
           }
          ]
         },
         "layout": {
          "annotationdefaults": {
           "arrowcolor": "#2a3f5f",
           "arrowhead": 0,
           "arrowwidth": 1
          },
          "autotypenumbers": "strict",
          "coloraxis": {
           "colorbar": {
            "outlinewidth": 0,
            "ticks": ""
           }
          },
          "colorscale": {
           "diverging": [
            [
             0,
             "#8e0152"
            ],
            [
             0.1,
             "#c51b7d"
            ],
            [
             0.2,
             "#de77ae"
            ],
            [
             0.3,
             "#f1b6da"
            ],
            [
             0.4,
             "#fde0ef"
            ],
            [
             0.5,
             "#f7f7f7"
            ],
            [
             0.6,
             "#e6f5d0"
            ],
            [
             0.7,
             "#b8e186"
            ],
            [
             0.8,
             "#7fbc41"
            ],
            [
             0.9,
             "#4d9221"
            ],
            [
             1,
             "#276419"
            ]
           ],
           "sequential": [
            [
             0,
             "#0d0887"
            ],
            [
             0.1111111111111111,
             "#46039f"
            ],
            [
             0.2222222222222222,
             "#7201a8"
            ],
            [
             0.3333333333333333,
             "#9c179e"
            ],
            [
             0.4444444444444444,
             "#bd3786"
            ],
            [
             0.5555555555555556,
             "#d8576b"
            ],
            [
             0.6666666666666666,
             "#ed7953"
            ],
            [
             0.7777777777777778,
             "#fb9f3a"
            ],
            [
             0.8888888888888888,
             "#fdca26"
            ],
            [
             1,
             "#f0f921"
            ]
           ],
           "sequentialminus": [
            [
             0,
             "#0d0887"
            ],
            [
             0.1111111111111111,
             "#46039f"
            ],
            [
             0.2222222222222222,
             "#7201a8"
            ],
            [
             0.3333333333333333,
             "#9c179e"
            ],
            [
             0.4444444444444444,
             "#bd3786"
            ],
            [
             0.5555555555555556,
             "#d8576b"
            ],
            [
             0.6666666666666666,
             "#ed7953"
            ],
            [
             0.7777777777777778,
             "#fb9f3a"
            ],
            [
             0.8888888888888888,
             "#fdca26"
            ],
            [
             1,
             "#f0f921"
            ]
           ]
          },
          "colorway": [
           "#636efa",
           "#EF553B",
           "#00cc96",
           "#ab63fa",
           "#FFA15A",
           "#19d3f3",
           "#FF6692",
           "#B6E880",
           "#FF97FF",
           "#FECB52"
          ],
          "font": {
           "color": "#2a3f5f"
          },
          "geo": {
           "bgcolor": "white",
           "lakecolor": "white",
           "landcolor": "#E5ECF6",
           "showlakes": true,
           "showland": true,
           "subunitcolor": "white"
          },
          "hoverlabel": {
           "align": "left"
          },
          "hovermode": "closest",
          "mapbox": {
           "style": "light"
          },
          "paper_bgcolor": "white",
          "plot_bgcolor": "#E5ECF6",
          "polar": {
           "angularaxis": {
            "gridcolor": "white",
            "linecolor": "white",
            "ticks": ""
           },
           "bgcolor": "#E5ECF6",
           "radialaxis": {
            "gridcolor": "white",
            "linecolor": "white",
            "ticks": ""
           }
          },
          "scene": {
           "xaxis": {
            "backgroundcolor": "#E5ECF6",
            "gridcolor": "white",
            "gridwidth": 2,
            "linecolor": "white",
            "showbackground": true,
            "ticks": "",
            "zerolinecolor": "white"
           },
           "yaxis": {
            "backgroundcolor": "#E5ECF6",
            "gridcolor": "white",
            "gridwidth": 2,
            "linecolor": "white",
            "showbackground": true,
            "ticks": "",
            "zerolinecolor": "white"
           },
           "zaxis": {
            "backgroundcolor": "#E5ECF6",
            "gridcolor": "white",
            "gridwidth": 2,
            "linecolor": "white",
            "showbackground": true,
            "ticks": "",
            "zerolinecolor": "white"
           }
          },
          "shapedefaults": {
           "line": {
            "color": "#2a3f5f"
           }
          },
          "ternary": {
           "aaxis": {
            "gridcolor": "white",
            "linecolor": "white",
            "ticks": ""
           },
           "baxis": {
            "gridcolor": "white",
            "linecolor": "white",
            "ticks": ""
           },
           "bgcolor": "#E5ECF6",
           "caxis": {
            "gridcolor": "white",
            "linecolor": "white",
            "ticks": ""
           }
          },
          "title": {
           "x": 0.05
          },
          "xaxis": {
           "automargin": true,
           "gridcolor": "white",
           "linecolor": "white",
           "ticks": "",
           "title": {
            "standoff": 15
           },
           "zerolinecolor": "white",
           "zerolinewidth": 2
          },
          "yaxis": {
           "automargin": true,
           "gridcolor": "white",
           "linecolor": "white",
           "ticks": "",
           "title": {
            "standoff": 15
           },
           "zerolinecolor": "white",
           "zerolinewidth": 2
          }
         }
        },
        "title": {
         "font": {
          "size": 20
         }
        }
       }
      }
     },
     "metadata": {},
     "output_type": "display_data"
    }
   ],
   "source": [
    "# code for 5\n",
    "def plot_info(year, data) -> None:\n",
    "    # Ensure 'FiscalYear' is treated as a string (you can also change this to integer if needed)\n",
    "    data['FiscalYear'] = data['FiscalYear'].astype(str)\n",
    "\n",
    "    # Filter the data for the given year\n",
    "    year_data = data[data['FiscalYear'] == str(year)]\n",
    "\n",
    "    # If no data for that year, exit function\n",
    "    if year_data.empty:\n",
    "        print(f\"No data available for {year}\")\n",
    "        return\n",
    "\n",
    "    # Group and aggregate data by FiscalYear\n",
    "    summary = year_data.groupby('FiscalYear')[['GrossPay', 'AnnualSalary']].sum().reset_index()\n",
    "\n",
    "    # Extract actual and expected values\n",
    "    actual = summary['GrossPay'].iloc[0]\n",
    "    expected = summary['AnnualSalary'].iloc[0]\n",
    "\n",
    "    # Calculate the discrepancy (absolute and percentage)\n",
    "    discrepancy = actual - expected\n",
    "    discrepancy_pct = (discrepancy / expected) * 100\n",
    "\n",
    "    # Create the gauge plot\n",
    "    steps = [\n",
    "        {'range': [0, expected], 'color': '#004080'}  # Dark blue for expected salary\n",
    "    ]\n",
    "    \n",
    "    # Add yellow step if actual exceeds expected\n",
    "    if actual > expected:\n",
    "        steps.append({'range': [expected, actual], 'color': 'yellow'})  # Yellow for actual salary\n",
    "    \n",
    "    fig = go.Figure(go.Indicator(\n",
    "        mode=\"gauge+number+delta\",\n",
    "        value=actual,\n",
    "        delta={\n",
    "            'reference': expected,\n",
    "            'increasing': {'color': \"red\"},\n",
    "            'decreasing': {'color': \"green\"}\n",
    "        },\n",
    "        gauge={\n",
    "            'axis': {'range': [0, expected * 1.1]},  \n",
    "            'bar': {'color': 'rgba(0,0,0,0)'},\n",
    "            'steps': steps,\n",
    "            'threshold': {\n",
    "                'line': {'color': \"red\", 'width': 4},  \n",
    "                'thickness': .95,\n",
    "                'value': actual  # Place the red line at the actual\n",
    "            }\n",
    "        },\n",
    "        title={'text': f\"{year} Budgeted Salary Spend vs. Salary Spend Actual\", 'font': {'size': 20}},\n",
    "    ))\n",
    "\n",
    "    fig.update_layout(\n",
    "        title_font={'size': 20},  # Set font size for the overall layout title\n",
    "    )\n",
    "\n",
    "    # Display the discrepancy\n",
    "    # print(f\"Discrepancy for {year}: ${discrepancy:,.2f} ({discrepancy_pct:.2f}%)\")\n",
    "\n",
    "    # Show the figure\n",
    "    fig.show()\n",
    "\n",
    "# Example usage:\n",
    "plot_info(2024, sal)"
   ]
  },
  {
   "cell_type": "code",
   "execution_count": 48,
   "metadata": {},
   "outputs": [
    {
     "data": {
      "text/html": [
       "<div>\n",
       "<style scoped>\n",
       "    .dataframe tbody tr th:only-of-type {\n",
       "        vertical-align: middle;\n",
       "    }\n",
       "\n",
       "    .dataframe tbody tr th {\n",
       "        vertical-align: top;\n",
       "    }\n",
       "\n",
       "    .dataframe thead th {\n",
       "        text-align: right;\n",
       "    }\n",
       "</style>\n",
       "<table border=\"1\" class=\"dataframe\">\n",
       "  <thead>\n",
       "    <tr style=\"text-align: right;\">\n",
       "      <th></th>\n",
       "      <th>ID</th>\n",
       "      <th>Name</th>\n",
       "      <th>JobTitle</th>\n",
       "      <th>AgencyID</th>\n",
       "      <th>AgencyName</th>\n",
       "      <th>HireDate</th>\n",
       "      <th>AnnualSalary</th>\n",
       "      <th>GrossPay</th>\n",
       "      <th>FiscalYear</th>\n",
       "      <th>Pay_Discrepancy</th>\n",
       "      <th>Pay_Discrepancy_Pct</th>\n",
       "    </tr>\n",
       "  </thead>\n",
       "  <tbody>\n",
       "    <tr>\n",
       "      <th>0</th>\n",
       "      <td>1</td>\n",
       "      <td>Aaron,Patricia G</td>\n",
       "      <td>Facilities/Office Services II</td>\n",
       "      <td>A03</td>\n",
       "      <td>OED-Employment Dev</td>\n",
       "      <td>1979-10-24</td>\n",
       "      <td>50845.0</td>\n",
       "      <td>45505.94</td>\n",
       "      <td>2011</td>\n",
       "      <td>-5339.06</td>\n",
       "      <td>-10.500659</td>\n",
       "    </tr>\n",
       "  </tbody>\n",
       "</table>\n",
       "</div>"
      ],
      "text/plain": [
       "   ID              Name                       JobTitle AgencyID  \\\n",
       "0   1  Aaron,Patricia G  Facilities/Office Services II      A03   \n",
       "\n",
       "           AgencyName   HireDate  AnnualSalary  GrossPay FiscalYear  \\\n",
       "0  OED-Employment Dev 1979-10-24       50845.0  45505.94       2011   \n",
       "\n",
       "   Pay_Discrepancy  Pay_Discrepancy_Pct  \n",
       "0         -5339.06           -10.500659  "
      ]
     },
     "execution_count": 48,
     "metadata": {},
     "output_type": "execute_result"
    }
   ],
   "source": [
    "sal.head(1)"
   ]
  },
  {
   "cell_type": "code",
   "execution_count": 49,
   "metadata": {},
   "outputs": [
    {
     "data": {
      "text/plain": [
       "'1,020,010,972.66'"
      ]
     },
     "execution_count": 49,
     "metadata": {},
     "output_type": "execute_result"
    }
   ],
   "source": [
    "# code for 7\n",
    "def calculate_total_spend(year, data) -> str:\n",
    "    # Filter the data for the specified year\n",
    "    year_filter = data[data['FiscalYear'] == str(year)]\n",
    "    \n",
    "    # Calculate the sum of 'YTD_Total' for the filtered data\n",
    "    total_spend = year_filter['GrossPay'].sum().round(2)\n",
    "\n",
    "    # Formats thousands separators\n",
    "    total_spend = \"{:,.2f}\".format(total_spend)\n",
    "    \n",
    "    # Return the total spend as a float\n",
    "    return str(total_spend)\n",
    "\n",
    "# Example usage:\n",
    "year = 2024\n",
    "total_spend = calculate_total_spend(year, sal)\n",
    "total_spend"
   ]
  },
  {
   "cell_type": "code",
   "execution_count": 50,
   "metadata": {},
   "outputs": [
    {
     "data": {
      "text/plain": [
       "'881,629,451.94'"
      ]
     },
     "execution_count": 50,
     "metadata": {},
     "output_type": "execute_result"
    }
   ],
   "source": [
    "# code for 9 \n",
    "def calculate_total_budget(year, data) -> str:\n",
    "    # Filter the data for the specified year\n",
    "    year_filter = data[data['FiscalYear'] == str(year)]\n",
    "    \n",
    "    # Calculate the sum of 'Salary_Total' for the filtered data\n",
    "    total_spend = year_filter['AnnualSalary'].sum().round(2)\n",
    "\n",
    "    # Formats thousands separators\n",
    "    total_spend = \"{:,.2f}\".format(total_spend)\n",
    "    \n",
    "    # Return the total spend as a float\n",
    "    return str(total_spend)\n",
    "\n",
    "# Example usage:\n",
    "year = 2024\n",
    "total_budget = calculate_total_budget(year, sal)\n",
    "total_budget"
   ]
  },
  {
   "cell_type": "code",
   "execution_count": 51,
   "metadata": {},
   "outputs": [
    {
     "data": {
      "text/plain": [
       "'+15.70%'"
      ]
     },
     "execution_count": 51,
     "metadata": {},
     "output_type": "execute_result"
    }
   ],
   "source": [
    "#code for 12\n",
    "def calculate_budget_difference(year, data) -> str:\n",
    "    # Filter the data for the specified year\n",
    "    year_filter = data[data['FiscalYear'] == str(year)]\n",
    "    \n",
    "    if year_filter.empty:\n",
    "        return \"No data for the specified year.\"\n",
    "    \n",
    "    # Extract actual and expected values\n",
    "    actual_spend = year_filter['GrossPay'].sum()\n",
    "    budgeted_salary = year_filter['AnnualSalary'].sum()\n",
    "\n",
    "    # Calculate the percentage difference\n",
    "    difference = ((actual_spend - budgeted_salary) / budgeted_salary) * 100\n",
    "    \n",
    "    # Format the difference with a '+' or '-' and thousands separators\n",
    "    return f\"{difference:+,.2f}%\"\n",
    "\n",
    "# Example usage:\n",
    "year = 2024\n",
    "budget_difference = calculate_budget_difference(year, sal)\n",
    "budget_difference"
   ]
  },
  {
   "cell_type": "code",
   "execution_count": 53,
   "metadata": {},
   "outputs": [
    {
     "data": {
      "text/html": [
       "<div>\n",
       "<style scoped>\n",
       "    .dataframe tbody tr th:only-of-type {\n",
       "        vertical-align: middle;\n",
       "    }\n",
       "\n",
       "    .dataframe tbody tr th {\n",
       "        vertical-align: top;\n",
       "    }\n",
       "\n",
       "    .dataframe thead th {\n",
       "        text-align: right;\n",
       "    }\n",
       "</style>\n",
       "<table border=\"1\" class=\"dataframe\">\n",
       "  <thead>\n",
       "    <tr style=\"text-align: right;\">\n",
       "      <th></th>\n",
       "      <th>FiscalYear</th>\n",
       "      <th>Name</th>\n",
       "      <th>AgencyName</th>\n",
       "      <th>JobTitle</th>\n",
       "      <th>AnnualSalary</th>\n",
       "      <th>GrossPay</th>\n",
       "      <th>Pay_Discrepancy</th>\n",
       "      <th>Pay_Discrepancy_Pct</th>\n",
       "    </tr>\n",
       "  </thead>\n",
       "  <tbody>\n",
       "    <tr>\n",
       "      <th>0</th>\n",
       "      <td>2024</td>\n",
       "      <td>Lunsford,David</td>\n",
       "      <td>Fire Department</td>\n",
       "      <td>62712 - Paramedic, EMT-P</td>\n",
       "      <td>113157.85</td>\n",
       "      <td>358586.44</td>\n",
       "      <td>245428.59</td>\n",
       "      <td>216.89</td>\n",
       "    </tr>\n",
       "    <tr>\n",
       "      <th>1</th>\n",
       "      <td>2024</td>\n",
       "      <td>Harris,William</td>\n",
       "      <td>Police Department</td>\n",
       "      <td>41112 - Police Sergeant</td>\n",
       "      <td>117663.00</td>\n",
       "      <td>324820.37</td>\n",
       "      <td>207157.37</td>\n",
       "      <td>176.06</td>\n",
       "    </tr>\n",
       "    <tr>\n",
       "      <th>2</th>\n",
       "      <td>2024</td>\n",
       "      <td>Wallace,Antonio</td>\n",
       "      <td>Fire Department</td>\n",
       "      <td>41209 - EMT Firefighter, Suppression</td>\n",
       "      <td>98769.35</td>\n",
       "      <td>290218.16</td>\n",
       "      <td>191448.81</td>\n",
       "      <td>193.83</td>\n",
       "    </tr>\n",
       "    <tr>\n",
       "      <th>3</th>\n",
       "      <td>2024</td>\n",
       "      <td>Booker,Jammie</td>\n",
       "      <td>Public Works - Water &amp; Waste Water</td>\n",
       "      <td>53516 - WWW Utilities Installer Repairer Super...</td>\n",
       "      <td>86404.98</td>\n",
       "      <td>268233.11</td>\n",
       "      <td>181828.13</td>\n",
       "      <td>210.44</td>\n",
       "    </tr>\n",
       "    <tr>\n",
       "      <th>4</th>\n",
       "      <td>2024</td>\n",
       "      <td>Pettis,Dennis</td>\n",
       "      <td>Fire Department</td>\n",
       "      <td>41268 - Fire Lieutenant, Safety and Risk Manag...</td>\n",
       "      <td>110128.59</td>\n",
       "      <td>285677.16</td>\n",
       "      <td>175548.57</td>\n",
       "      <td>159.40</td>\n",
       "    </tr>\n",
       "    <tr>\n",
       "      <th>5</th>\n",
       "      <td>2024</td>\n",
       "      <td>Mcmillian,Paul</td>\n",
       "      <td>Police Department</td>\n",
       "      <td>41112 - Police Sergeant</td>\n",
       "      <td>119984.00</td>\n",
       "      <td>295443.17</td>\n",
       "      <td>175459.17</td>\n",
       "      <td>146.24</td>\n",
       "    </tr>\n",
       "    <tr>\n",
       "      <th>6</th>\n",
       "      <td>2024</td>\n",
       "      <td>Whitted,Lakeshia</td>\n",
       "      <td>Police Department</td>\n",
       "      <td>41112 - Police Sergeant</td>\n",
       "      <td>118895.00</td>\n",
       "      <td>292142.04</td>\n",
       "      <td>173247.04</td>\n",
       "      <td>145.71</td>\n",
       "    </tr>\n",
       "    <tr>\n",
       "      <th>7</th>\n",
       "      <td>2024</td>\n",
       "      <td>Rondholz,Christopher</td>\n",
       "      <td>Fire Department</td>\n",
       "      <td>62712 - Paramedic, EMT-P</td>\n",
       "      <td>103159.97</td>\n",
       "      <td>276072.62</td>\n",
       "      <td>172912.65</td>\n",
       "      <td>167.62</td>\n",
       "    </tr>\n",
       "    <tr>\n",
       "      <th>8</th>\n",
       "      <td>2024</td>\n",
       "      <td>Parker,Leon</td>\n",
       "      <td>Fire Department</td>\n",
       "      <td>41211 - Firefighter Suppression</td>\n",
       "      <td>105158.93</td>\n",
       "      <td>273163.65</td>\n",
       "      <td>168004.72</td>\n",
       "      <td>159.76</td>\n",
       "    </tr>\n",
       "    <tr>\n",
       "      <th>9</th>\n",
       "      <td>2024</td>\n",
       "      <td>Lofton,Osiris</td>\n",
       "      <td>Police Department</td>\n",
       "      <td>41111 - Police Officer</td>\n",
       "      <td>99687.00</td>\n",
       "      <td>265123.51</td>\n",
       "      <td>165436.51</td>\n",
       "      <td>165.96</td>\n",
       "    </tr>\n",
       "    <tr>\n",
       "      <th>10</th>\n",
       "      <td>2024</td>\n",
       "      <td>Camarote,Marc</td>\n",
       "      <td>Police Department</td>\n",
       "      <td>41112 - Police Sergeant</td>\n",
       "      <td>120663.00</td>\n",
       "      <td>283534.21</td>\n",
       "      <td>162871.21</td>\n",
       "      <td>134.98</td>\n",
       "    </tr>\n",
       "    <tr>\n",
       "      <th>11</th>\n",
       "      <td>2024</td>\n",
       "      <td>Buchanan,Dayton</td>\n",
       "      <td>Fire Department</td>\n",
       "      <td>41211 - Firefighter Suppression</td>\n",
       "      <td>105158.93</td>\n",
       "      <td>267993.38</td>\n",
       "      <td>162834.45</td>\n",
       "      <td>154.85</td>\n",
       "    </tr>\n",
       "    <tr>\n",
       "      <th>12</th>\n",
       "      <td>2024</td>\n",
       "      <td>Anderson,Charles</td>\n",
       "      <td>Police Department</td>\n",
       "      <td>41113 - Police Lieutenant</td>\n",
       "      <td>137416.00</td>\n",
       "      <td>293853.17</td>\n",
       "      <td>156437.17</td>\n",
       "      <td>113.84</td>\n",
       "    </tr>\n",
       "    <tr>\n",
       "      <th>13</th>\n",
       "      <td>2024</td>\n",
       "      <td>Thomas,Ronald</td>\n",
       "      <td>Sheriff's Office</td>\n",
       "      <td>01401 - Deputy Sheriff</td>\n",
       "      <td>88564.00</td>\n",
       "      <td>243779.13</td>\n",
       "      <td>155215.13</td>\n",
       "      <td>175.26</td>\n",
       "    </tr>\n",
       "    <tr>\n",
       "      <th>14</th>\n",
       "      <td>2024</td>\n",
       "      <td>Talley,Damon</td>\n",
       "      <td>Police Department</td>\n",
       "      <td>41111 - Police Officer</td>\n",
       "      <td>101866.00</td>\n",
       "      <td>256106.33</td>\n",
       "      <td>154240.33</td>\n",
       "      <td>151.41</td>\n",
       "    </tr>\n",
       "    <tr>\n",
       "      <th>15</th>\n",
       "      <td>2024</td>\n",
       "      <td>Swinton,Kimberly</td>\n",
       "      <td>Police Department</td>\n",
       "      <td>41112 - Police Sergeant</td>\n",
       "      <td>117663.00</td>\n",
       "      <td>271240.89</td>\n",
       "      <td>153577.89</td>\n",
       "      <td>130.52</td>\n",
       "    </tr>\n",
       "    <tr>\n",
       "      <th>16</th>\n",
       "      <td>2024</td>\n",
       "      <td>Nowowiejski,Wayne</td>\n",
       "      <td>Fire Department</td>\n",
       "      <td>41213 - Fire Captain, Suppression</td>\n",
       "      <td>127290.91</td>\n",
       "      <td>278315.04</td>\n",
       "      <td>151024.13</td>\n",
       "      <td>118.64</td>\n",
       "    </tr>\n",
       "    <tr>\n",
       "      <th>17</th>\n",
       "      <td>2024</td>\n",
       "      <td>Klinges,Annemarie</td>\n",
       "      <td>Police Department</td>\n",
       "      <td>41111 - Police Officer</td>\n",
       "      <td>104866.00</td>\n",
       "      <td>255208.05</td>\n",
       "      <td>150342.05</td>\n",
       "      <td>143.37</td>\n",
       "    </tr>\n",
       "    <tr>\n",
       "      <th>18</th>\n",
       "      <td>2024</td>\n",
       "      <td>Black,Kirk</td>\n",
       "      <td>Police Department</td>\n",
       "      <td>41112 - Police Sergeant</td>\n",
       "      <td>119574.00</td>\n",
       "      <td>269811.31</td>\n",
       "      <td>150237.31</td>\n",
       "      <td>125.64</td>\n",
       "    </tr>\n",
       "    <tr>\n",
       "      <th>19</th>\n",
       "      <td>2024</td>\n",
       "      <td>Smith,Eric L</td>\n",
       "      <td>Public Works - Water &amp; Waste Water</td>\n",
       "      <td>54334 - WWW Technician Supervisor I Sanitary</td>\n",
       "      <td>75631.00</td>\n",
       "      <td>225686.34</td>\n",
       "      <td>150055.34</td>\n",
       "      <td>198.40</td>\n",
       "    </tr>\n",
       "  </tbody>\n",
       "</table>\n",
       "</div>"
      ],
      "text/plain": [
       "   FiscalYear                  Name                          AgencyName  \\\n",
       "0        2024        Lunsford,David                     Fire Department   \n",
       "1        2024        Harris,William                   Police Department   \n",
       "2        2024       Wallace,Antonio                     Fire Department   \n",
       "3        2024         Booker,Jammie  Public Works - Water & Waste Water   \n",
       "4        2024         Pettis,Dennis                     Fire Department   \n",
       "5        2024        Mcmillian,Paul                   Police Department   \n",
       "6        2024      Whitted,Lakeshia                   Police Department   \n",
       "7        2024  Rondholz,Christopher                     Fire Department   \n",
       "8        2024           Parker,Leon                     Fire Department   \n",
       "9        2024         Lofton,Osiris                   Police Department   \n",
       "10       2024         Camarote,Marc                   Police Department   \n",
       "11       2024       Buchanan,Dayton                     Fire Department   \n",
       "12       2024      Anderson,Charles                   Police Department   \n",
       "13       2024         Thomas,Ronald                    Sheriff's Office   \n",
       "14       2024          Talley,Damon                   Police Department   \n",
       "15       2024      Swinton,Kimberly                   Police Department   \n",
       "16       2024     Nowowiejski,Wayne                     Fire Department   \n",
       "17       2024     Klinges,Annemarie                   Police Department   \n",
       "18       2024            Black,Kirk                   Police Department   \n",
       "19       2024          Smith,Eric L  Public Works - Water & Waste Water   \n",
       "\n",
       "                                             JobTitle  AnnualSalary  \\\n",
       "0                            62712 - Paramedic, EMT-P     113157.85   \n",
       "1                             41112 - Police Sergeant     117663.00   \n",
       "2                41209 - EMT Firefighter, Suppression      98769.35   \n",
       "3   53516 - WWW Utilities Installer Repairer Super...      86404.98   \n",
       "4   41268 - Fire Lieutenant, Safety and Risk Manag...     110128.59   \n",
       "5                             41112 - Police Sergeant     119984.00   \n",
       "6                             41112 - Police Sergeant     118895.00   \n",
       "7                            62712 - Paramedic, EMT-P     103159.97   \n",
       "8                     41211 - Firefighter Suppression     105158.93   \n",
       "9                              41111 - Police Officer      99687.00   \n",
       "10                            41112 - Police Sergeant     120663.00   \n",
       "11                    41211 - Firefighter Suppression     105158.93   \n",
       "12                          41113 - Police Lieutenant     137416.00   \n",
       "13                             01401 - Deputy Sheriff      88564.00   \n",
       "14                             41111 - Police Officer     101866.00   \n",
       "15                            41112 - Police Sergeant     117663.00   \n",
       "16                  41213 - Fire Captain, Suppression     127290.91   \n",
       "17                             41111 - Police Officer     104866.00   \n",
       "18                            41112 - Police Sergeant     119574.00   \n",
       "19       54334 - WWW Technician Supervisor I Sanitary      75631.00   \n",
       "\n",
       "     GrossPay  Pay_Discrepancy  Pay_Discrepancy_Pct  \n",
       "0   358586.44        245428.59               216.89  \n",
       "1   324820.37        207157.37               176.06  \n",
       "2   290218.16        191448.81               193.83  \n",
       "3   268233.11        181828.13               210.44  \n",
       "4   285677.16        175548.57               159.40  \n",
       "5   295443.17        175459.17               146.24  \n",
       "6   292142.04        173247.04               145.71  \n",
       "7   276072.62        172912.65               167.62  \n",
       "8   273163.65        168004.72               159.76  \n",
       "9   265123.51        165436.51               165.96  \n",
       "10  283534.21        162871.21               134.98  \n",
       "11  267993.38        162834.45               154.85  \n",
       "12  293853.17        156437.17               113.84  \n",
       "13  243779.13        155215.13               175.26  \n",
       "14  256106.33        154240.33               151.41  \n",
       "15  271240.89        153577.89               130.52  \n",
       "16  278315.04        151024.13               118.64  \n",
       "17  255208.05        150342.05               143.37  \n",
       "18  269811.31        150237.31               125.64  \n",
       "19  225686.34        150055.34               198.40  "
      ]
     },
     "execution_count": 53,
     "metadata": {},
     "output_type": "execute_result"
    }
   ],
   "source": [
    "# code for 10\n",
    "def top_emp_dev(year, data):\n",
    "    # we had to avoid division by zero and only calculate Discrepancy_Percent for employees with Salary_Total >= 20k\n",
    "    # Filter the data for the given year\n",
    "    top_employee = data[data['FiscalYear'] == str(year)].copy()\n",
    "\n",
    "    # Round the Discrepancy_Percent to 2 decimal places\n",
    "    top_employee['Pay_Discrepancy_Pct'] = top_employee['Pay_Discrepancy_Pct'].round(2)\n",
    "\n",
    "    # handle Salary_Total < 20k\n",
    "    top_employee = top_employee[top_employee['AnnualSalary'] >= 10000]\n",
    "\n",
    "    # Sort the DataFrame by 'Discrepancy_Percent' in descending order\n",
    "    top_employee = top_employee.sort_values(by='Pay_Discrepancy', ascending=False)\n",
    "\n",
    "    # Keep only the specified columns\n",
    "    top_employee = top_employee[['FiscalYear', 'Name', 'AgencyName', 'JobTitle',\n",
    "                                 'AnnualSalary', 'GrossPay',\n",
    "                                 'Pay_Discrepancy', 'Pay_Discrepancy_Pct']]\n",
    "    \n",
    "    # Reset index and drop the old index column\n",
    "    top_employee.reset_index(drop=True, inplace=True)\n",
    "\n",
    "    return top_employee.head(20)\n",
    "\n",
    "# Example usage:\n",
    "year = 2024\n",
    "top_employee = top_emp_dev(year, sal)\n",
    "top_employee"
   ]
  },
  {
   "cell_type": "code",
   "execution_count": 55,
   "metadata": {},
   "outputs": [
    {
     "data": {
      "text/html": [
       "<div>\n",
       "<style scoped>\n",
       "    .dataframe tbody tr th:only-of-type {\n",
       "        vertical-align: middle;\n",
       "    }\n",
       "\n",
       "    .dataframe tbody tr th {\n",
       "        vertical-align: top;\n",
       "    }\n",
       "\n",
       "    .dataframe thead th {\n",
       "        text-align: right;\n",
       "    }\n",
       "</style>\n",
       "<table border=\"1\" class=\"dataframe\">\n",
       "  <thead>\n",
       "    <tr style=\"text-align: right;\">\n",
       "      <th></th>\n",
       "      <th>FiscalYear</th>\n",
       "      <th>AgencyName</th>\n",
       "      <th>Total Salary Spend</th>\n",
       "      <th>Salary Budget</th>\n",
       "      <th>Discrepancy Percent</th>\n",
       "    </tr>\n",
       "  </thead>\n",
       "  <tbody>\n",
       "    <tr>\n",
       "      <th>870</th>\n",
       "      <td>2024</td>\n",
       "      <td>Environmental Control Board</td>\n",
       "      <td>575,234.50</td>\n",
       "      <td>291,987.73</td>\n",
       "      <td>97.01</td>\n",
       "    </tr>\n",
       "    <tr>\n",
       "      <th>904</th>\n",
       "      <td>2024</td>\n",
       "      <td>Recreation &amp; Parks - Recreation</td>\n",
       "      <td>11,804,606.66</td>\n",
       "      <td>6,407,503.74</td>\n",
       "      <td>84.23</td>\n",
       "    </tr>\n",
       "    <tr>\n",
       "      <th>907</th>\n",
       "      <td>2024</td>\n",
       "      <td>SCS - Special City Services</td>\n",
       "      <td>140,000.64</td>\n",
       "      <td>80,000.00</td>\n",
       "      <td>75.00</td>\n",
       "    </tr>\n",
       "    <tr>\n",
       "      <th>901</th>\n",
       "      <td>2024</td>\n",
       "      <td>Rec &amp; Parks</td>\n",
       "      <td>755,060.15</td>\n",
       "      <td>525,899.88</td>\n",
       "      <td>43.57</td>\n",
       "    </tr>\n",
       "    <tr>\n",
       "      <th>908</th>\n",
       "      <td>2024</td>\n",
       "      <td>Sheriff's Office</td>\n",
       "      <td>18,567,076.97</td>\n",
       "      <td>13,355,700.62</td>\n",
       "      <td>39.02</td>\n",
       "    </tr>\n",
       "    <tr>\n",
       "      <th>896</th>\n",
       "      <td>2024</td>\n",
       "      <td>Police Department</td>\n",
       "      <td>299,080,950.52</td>\n",
       "      <td>219,924,247.65</td>\n",
       "      <td>35.99</td>\n",
       "    </tr>\n",
       "    <tr>\n",
       "      <th>912</th>\n",
       "      <td>2024</td>\n",
       "      <td>Transportation - Highways (weekly)</td>\n",
       "      <td>2,450,226.69</td>\n",
       "      <td>1,837,576.90</td>\n",
       "      <td>33.34</td>\n",
       "    </tr>\n",
       "    <tr>\n",
       "      <th>877</th>\n",
       "      <td>2024</td>\n",
       "      <td>Fire Department</td>\n",
       "      <td>175,657,307.62</td>\n",
       "      <td>138,157,902.38</td>\n",
       "      <td>27.14</td>\n",
       "    </tr>\n",
       "    <tr>\n",
       "      <th>914</th>\n",
       "      <td>2024</td>\n",
       "      <td>Transportation - Traffic</td>\n",
       "      <td>10,362,753.17</td>\n",
       "      <td>8,160,165.22</td>\n",
       "      <td>26.99</td>\n",
       "    </tr>\n",
       "    <tr>\n",
       "      <th>899</th>\n",
       "      <td>2024</td>\n",
       "      <td>Public Works - Solid Waste (weekly)</td>\n",
       "      <td>10,708,659.18</td>\n",
       "      <td>8,478,894.67</td>\n",
       "      <td>26.30</td>\n",
       "    </tr>\n",
       "    <tr>\n",
       "      <th>903</th>\n",
       "      <td>2024</td>\n",
       "      <td>Recreation &amp; Parks - Parks</td>\n",
       "      <td>8,345,876.32</td>\n",
       "      <td>6,905,071.83</td>\n",
       "      <td>20.87</td>\n",
       "    </tr>\n",
       "    <tr>\n",
       "      <th>913</th>\n",
       "      <td>2024</td>\n",
       "      <td>Transportation - Towing</td>\n",
       "      <td>2,772,080.11</td>\n",
       "      <td>2,330,952.19</td>\n",
       "      <td>18.92</td>\n",
       "    </tr>\n",
       "    <tr>\n",
       "      <th>911</th>\n",
       "      <td>2024</td>\n",
       "      <td>Transportation - Highways</td>\n",
       "      <td>43,771,936.45</td>\n",
       "      <td>37,825,472.68</td>\n",
       "      <td>15.72</td>\n",
       "    </tr>\n",
       "    <tr>\n",
       "      <th>900</th>\n",
       "      <td>2024</td>\n",
       "      <td>Public Works - Water &amp; Waste Water</td>\n",
       "      <td>101,779,095.60</td>\n",
       "      <td>88,842,579.67</td>\n",
       "      <td>14.56</td>\n",
       "    </tr>\n",
       "    <tr>\n",
       "      <th>867</th>\n",
       "      <td>2024</td>\n",
       "      <td>Courts - Orphan's Court</td>\n",
       "      <td>476,240.50</td>\n",
       "      <td>436,650.48</td>\n",
       "      <td>9.07</td>\n",
       "    </tr>\n",
       "    <tr>\n",
       "      <th>898</th>\n",
       "      <td>2024</td>\n",
       "      <td>Public Works - Solid Waste</td>\n",
       "      <td>28,401,846.46</td>\n",
       "      <td>26,401,681.84</td>\n",
       "      <td>7.58</td>\n",
       "    </tr>\n",
       "    <tr>\n",
       "      <th>878</th>\n",
       "      <td>2024</td>\n",
       "      <td>General Services</td>\n",
       "      <td>23,492,544.85</td>\n",
       "      <td>21,949,986.80</td>\n",
       "      <td>7.03</td>\n",
       "    </tr>\n",
       "    <tr>\n",
       "      <th>902</th>\n",
       "      <td>2024</td>\n",
       "      <td>Recreation &amp; Parks - Administration</td>\n",
       "      <td>10,393,099.05</td>\n",
       "      <td>9,878,681.62</td>\n",
       "      <td>5.21</td>\n",
       "    </tr>\n",
       "    <tr>\n",
       "      <th>855</th>\n",
       "      <td>2024</td>\n",
       "      <td>BCIT 311 Call Center</td>\n",
       "      <td>3,031,334.42</td>\n",
       "      <td>2,903,281.32</td>\n",
       "      <td>4.41</td>\n",
       "    </tr>\n",
       "    <tr>\n",
       "      <th>885</th>\n",
       "      <td>2024</td>\n",
       "      <td>Liquor License Board</td>\n",
       "      <td>1,845,207.94</td>\n",
       "      <td>1,793,351.42</td>\n",
       "      <td>2.89</td>\n",
       "    </tr>\n",
       "    <tr>\n",
       "      <th>873</th>\n",
       "      <td>2024</td>\n",
       "      <td>Finance - Collections</td>\n",
       "      <td>6,336,706.00</td>\n",
       "      <td>6,191,580.13</td>\n",
       "      <td>2.34</td>\n",
       "    </tr>\n",
       "    <tr>\n",
       "      <th>862</th>\n",
       "      <td>2024</td>\n",
       "      <td>Comptroller - Communication Services</td>\n",
       "      <td>1,560,140.92</td>\n",
       "      <td>1,541,736.00</td>\n",
       "      <td>1.19</td>\n",
       "    </tr>\n",
       "    <tr>\n",
       "      <th>863</th>\n",
       "      <td>2024</td>\n",
       "      <td>Comptroller - Real Estate</td>\n",
       "      <td>787,847.47</td>\n",
       "      <td>786,238.40</td>\n",
       "      <td>0.20</td>\n",
       "    </tr>\n",
       "    <tr>\n",
       "      <th>868</th>\n",
       "      <td>2024</td>\n",
       "      <td>Elections</td>\n",
       "      <td>51,000.56</td>\n",
       "      <td>51,000.00</td>\n",
       "      <td>0.00</td>\n",
       "    </tr>\n",
       "    <tr>\n",
       "      <th>859</th>\n",
       "      <td>2024</td>\n",
       "      <td>Comptroller</td>\n",
       "      <td>1,546,834.22</td>\n",
       "      <td>1,548,637.61</td>\n",
       "      <td>-0.12</td>\n",
       "    </tr>\n",
       "    <tr>\n",
       "      <th>869</th>\n",
       "      <td>2024</td>\n",
       "      <td>Enoch Pratt Free Library</td>\n",
       "      <td>23,136,502.21</td>\n",
       "      <td>23,195,833.12</td>\n",
       "      <td>-0.26</td>\n",
       "    </tr>\n",
       "    <tr>\n",
       "      <th>910</th>\n",
       "      <td>2024</td>\n",
       "      <td>Transportation - Crossing Guards</td>\n",
       "      <td>2,993,457.82</td>\n",
       "      <td>3,009,596.84</td>\n",
       "      <td>-0.54</td>\n",
       "    </tr>\n",
       "    <tr>\n",
       "      <th>882</th>\n",
       "      <td>2024</td>\n",
       "      <td>Labor Commissioner's Office</td>\n",
       "      <td>671,333.03</td>\n",
       "      <td>682,040.78</td>\n",
       "      <td>-1.57</td>\n",
       "    </tr>\n",
       "    <tr>\n",
       "      <th>864</th>\n",
       "      <td>2024</td>\n",
       "      <td>Convention Center</td>\n",
       "      <td>8,386,708.15</td>\n",
       "      <td>8,586,733.93</td>\n",
       "      <td>-2.33</td>\n",
       "    </tr>\n",
       "    <tr>\n",
       "      <th>876</th>\n",
       "      <td>2024</td>\n",
       "      <td>Finance - Treasury</td>\n",
       "      <td>659,425.07</td>\n",
       "      <td>678,645.52</td>\n",
       "      <td>-2.83</td>\n",
       "    </tr>\n",
       "    <tr>\n",
       "      <th>883</th>\n",
       "      <td>2024</td>\n",
       "      <td>Law Department</td>\n",
       "      <td>11,667,219.68</td>\n",
       "      <td>12,205,514.00</td>\n",
       "      <td>-4.41</td>\n",
       "    </tr>\n",
       "    <tr>\n",
       "      <th>879</th>\n",
       "      <td>2024</td>\n",
       "      <td>Health Department</td>\n",
       "      <td>40,038,760.01</td>\n",
       "      <td>41,957,836.73</td>\n",
       "      <td>-4.57</td>\n",
       "    </tr>\n",
       "    <tr>\n",
       "      <th>856</th>\n",
       "      <td>2024</td>\n",
       "      <td>Baltimore City Office of Information and Techn...</td>\n",
       "      <td>10,033,917.17</td>\n",
       "      <td>10,560,511.50</td>\n",
       "      <td>-4.99</td>\n",
       "    </tr>\n",
       "    <tr>\n",
       "      <th>906</th>\n",
       "      <td>2024</td>\n",
       "      <td>Retire - Fire Department &amp; Police Department</td>\n",
       "      <td>2,701,560.96</td>\n",
       "      <td>2,851,659.38</td>\n",
       "      <td>-5.26</td>\n",
       "    </tr>\n",
       "    <tr>\n",
       "      <th>858</th>\n",
       "      <td>2024</td>\n",
       "      <td>City Council</td>\n",
       "      <td>5,011,645.11</td>\n",
       "      <td>5,355,925.11</td>\n",
       "      <td>-6.43</td>\n",
       "    </tr>\n",
       "    <tr>\n",
       "      <th>905</th>\n",
       "      <td>2024</td>\n",
       "      <td>Retire - ERS/EOS</td>\n",
       "      <td>2,920,553.06</td>\n",
       "      <td>3,128,361.07</td>\n",
       "      <td>-6.64</td>\n",
       "    </tr>\n",
       "    <tr>\n",
       "      <th>880</th>\n",
       "      <td>2024</td>\n",
       "      <td>Housing &amp; Community Development</td>\n",
       "      <td>24,200,220.57</td>\n",
       "      <td>25,961,629.38</td>\n",
       "      <td>-6.78</td>\n",
       "    </tr>\n",
       "    <tr>\n",
       "      <th>892</th>\n",
       "      <td>2024</td>\n",
       "      <td>Office of Equity and Civil Rights</td>\n",
       "      <td>2,687,733.72</td>\n",
       "      <td>2,890,206.07</td>\n",
       "      <td>-7.01</td>\n",
       "    </tr>\n",
       "    <tr>\n",
       "      <th>887</th>\n",
       "      <td>2024</td>\n",
       "      <td>MONSE</td>\n",
       "      <td>3,819,907.32</td>\n",
       "      <td>4,119,916.00</td>\n",
       "      <td>-7.28</td>\n",
       "    </tr>\n",
       "    <tr>\n",
       "      <th>897</th>\n",
       "      <td>2024</td>\n",
       "      <td>Public Works - Administration</td>\n",
       "      <td>19,065,683.83</td>\n",
       "      <td>20,626,949.64</td>\n",
       "      <td>-7.57</td>\n",
       "    </tr>\n",
       "    <tr>\n",
       "      <th>884</th>\n",
       "      <td>2024</td>\n",
       "      <td>Legislative Reference</td>\n",
       "      <td>497,273.95</td>\n",
       "      <td>539,028.53</td>\n",
       "      <td>-7.75</td>\n",
       "    </tr>\n",
       "    <tr>\n",
       "      <th>881</th>\n",
       "      <td>2024</td>\n",
       "      <td>Human Resources</td>\n",
       "      <td>6,059,087.45</td>\n",
       "      <td>6,581,059.73</td>\n",
       "      <td>-7.93</td>\n",
       "    </tr>\n",
       "    <tr>\n",
       "      <th>866</th>\n",
       "      <td>2024</td>\n",
       "      <td>Courts - Circuit Court</td>\n",
       "      <td>7,863,071.88</td>\n",
       "      <td>8,577,031.26</td>\n",
       "      <td>-8.32</td>\n",
       "    </tr>\n",
       "    <tr>\n",
       "      <th>886</th>\n",
       "      <td>2024</td>\n",
       "      <td>MOCFS</td>\n",
       "      <td>6,640,099.68</td>\n",
       "      <td>7,281,301.66</td>\n",
       "      <td>-8.81</td>\n",
       "    </tr>\n",
       "    <tr>\n",
       "      <th>909</th>\n",
       "      <td>2024</td>\n",
       "      <td>State's Attorney's Office</td>\n",
       "      <td>26,602,775.08</td>\n",
       "      <td>29,197,899.68</td>\n",
       "      <td>-8.89</td>\n",
       "    </tr>\n",
       "    <tr>\n",
       "      <th>871</th>\n",
       "      <td>2024</td>\n",
       "      <td>Finance - Accounting &amp; Payroll</td>\n",
       "      <td>1,830,081.08</td>\n",
       "      <td>2,008,703.26</td>\n",
       "      <td>-8.89</td>\n",
       "    </tr>\n",
       "    <tr>\n",
       "      <th>874</th>\n",
       "      <td>2024</td>\n",
       "      <td>Finance - Purchasing</td>\n",
       "      <td>3,272,062.18</td>\n",
       "      <td>3,646,789.67</td>\n",
       "      <td>-10.28</td>\n",
       "    </tr>\n",
       "    <tr>\n",
       "      <th>875</th>\n",
       "      <td>2024</td>\n",
       "      <td>Finance - Risk Management</td>\n",
       "      <td>563,199.92</td>\n",
       "      <td>632,239.83</td>\n",
       "      <td>-10.92</td>\n",
       "    </tr>\n",
       "    <tr>\n",
       "      <th>889</th>\n",
       "      <td>2024</td>\n",
       "      <td>Mayor's Office of Employment Development</td>\n",
       "      <td>13,298,398.16</td>\n",
       "      <td>14,951,867.92</td>\n",
       "      <td>-11.06</td>\n",
       "    </tr>\n",
       "    <tr>\n",
       "      <th>888</th>\n",
       "      <td>2024</td>\n",
       "      <td>Mayor's Office</td>\n",
       "      <td>11,605,311.85</td>\n",
       "      <td>13,095,616.89</td>\n",
       "      <td>-11.38</td>\n",
       "    </tr>\n",
       "    <tr>\n",
       "      <th>872</th>\n",
       "      <td>2024</td>\n",
       "      <td>Finance - Administration &amp; Budgets</td>\n",
       "      <td>3,993,324.66</td>\n",
       "      <td>4,506,975.22</td>\n",
       "      <td>-11.40</td>\n",
       "    </tr>\n",
       "    <tr>\n",
       "      <th>895</th>\n",
       "      <td>2024</td>\n",
       "      <td>Planning</td>\n",
       "      <td>4,052,917.33</td>\n",
       "      <td>4,648,959.67</td>\n",
       "      <td>-12.82</td>\n",
       "    </tr>\n",
       "    <tr>\n",
       "      <th>861</th>\n",
       "      <td>2024</td>\n",
       "      <td>Comptroller - Audits</td>\n",
       "      <td>2,550,351.60</td>\n",
       "      <td>3,014,878.04</td>\n",
       "      <td>-15.41</td>\n",
       "    </tr>\n",
       "    <tr>\n",
       "      <th>890</th>\n",
       "      <td>2024</td>\n",
       "      <td>Mayor's Office of Homeless Services</td>\n",
       "      <td>3,839,558.98</td>\n",
       "      <td>4,545,829.36</td>\n",
       "      <td>-15.54</td>\n",
       "    </tr>\n",
       "    <tr>\n",
       "      <th>865</th>\n",
       "      <td>2024</td>\n",
       "      <td>Councilmatic Services</td>\n",
       "      <td>391,748.14</td>\n",
       "      <td>469,341.48</td>\n",
       "      <td>-16.53</td>\n",
       "    </tr>\n",
       "    <tr>\n",
       "      <th>894</th>\n",
       "      <td>2024</td>\n",
       "      <td>Office of the Inspector General</td>\n",
       "      <td>1,245,651.76</td>\n",
       "      <td>1,497,599.21</td>\n",
       "      <td>-16.82</td>\n",
       "    </tr>\n",
       "    <tr>\n",
       "      <th>860</th>\n",
       "      <td>2024</td>\n",
       "      <td>Comptroller - Accounts Payable</td>\n",
       "      <td>575,014.31</td>\n",
       "      <td>694,311.16</td>\n",
       "      <td>-17.18</td>\n",
       "    </tr>\n",
       "    <tr>\n",
       "      <th>857</th>\n",
       "      <td>2024</td>\n",
       "      <td>Cable &amp; Communications</td>\n",
       "      <td>326,190.82</td>\n",
       "      <td>395,616.13</td>\n",
       "      <td>-17.55</td>\n",
       "    </tr>\n",
       "    <tr>\n",
       "      <th>891</th>\n",
       "      <td>2024</td>\n",
       "      <td>Municipal Zoning &amp; Appeals</td>\n",
       "      <td>382,675.94</td>\n",
       "      <td>466,175.04</td>\n",
       "      <td>-17.91</td>\n",
       "    </tr>\n",
       "    <tr>\n",
       "      <th>893</th>\n",
       "      <td>2024</td>\n",
       "      <td>Office of Small and Minority Business Advocacy...</td>\n",
       "      <td>1,733,883.21</td>\n",
       "      <td>2,460,088.35</td>\n",
       "      <td>-29.52</td>\n",
       "    </tr>\n",
       "  </tbody>\n",
       "</table>\n",
       "</div>"
      ],
      "text/plain": [
       "    FiscalYear                                         AgencyName  \\\n",
       "870       2024                        Environmental Control Board   \n",
       "904       2024                    Recreation & Parks - Recreation   \n",
       "907       2024                        SCS - Special City Services   \n",
       "901       2024                                        Rec & Parks   \n",
       "908       2024                                   Sheriff's Office   \n",
       "896       2024                                  Police Department   \n",
       "912       2024                 Transportation - Highways (weekly)   \n",
       "877       2024                                    Fire Department   \n",
       "914       2024                           Transportation - Traffic   \n",
       "899       2024                Public Works - Solid Waste (weekly)   \n",
       "903       2024                         Recreation & Parks - Parks   \n",
       "913       2024                            Transportation - Towing   \n",
       "911       2024                          Transportation - Highways   \n",
       "900       2024                 Public Works - Water & Waste Water   \n",
       "867       2024                            Courts - Orphan's Court   \n",
       "898       2024                         Public Works - Solid Waste   \n",
       "878       2024                                   General Services   \n",
       "902       2024                Recreation & Parks - Administration   \n",
       "855       2024                               BCIT 311 Call Center   \n",
       "885       2024                               Liquor License Board   \n",
       "873       2024                              Finance - Collections   \n",
       "862       2024               Comptroller - Communication Services   \n",
       "863       2024                          Comptroller - Real Estate   \n",
       "868       2024                                          Elections   \n",
       "859       2024                                        Comptroller   \n",
       "869       2024                           Enoch Pratt Free Library   \n",
       "910       2024                   Transportation - Crossing Guards   \n",
       "882       2024                        Labor Commissioner's Office   \n",
       "864       2024                                  Convention Center   \n",
       "876       2024                                 Finance - Treasury   \n",
       "883       2024                                     Law Department   \n",
       "879       2024                                  Health Department   \n",
       "856       2024  Baltimore City Office of Information and Techn...   \n",
       "906       2024       Retire - Fire Department & Police Department   \n",
       "858       2024                                       City Council   \n",
       "905       2024                                   Retire - ERS/EOS   \n",
       "880       2024                    Housing & Community Development   \n",
       "892       2024                  Office of Equity and Civil Rights   \n",
       "887       2024                                              MONSE   \n",
       "897       2024                      Public Works - Administration   \n",
       "884       2024                              Legislative Reference   \n",
       "881       2024                                    Human Resources   \n",
       "866       2024                             Courts - Circuit Court   \n",
       "886       2024                                              MOCFS   \n",
       "909       2024                          State's Attorney's Office   \n",
       "871       2024                     Finance - Accounting & Payroll   \n",
       "874       2024                               Finance - Purchasing   \n",
       "875       2024                          Finance - Risk Management   \n",
       "889       2024           Mayor's Office of Employment Development   \n",
       "888       2024                                     Mayor's Office   \n",
       "872       2024                 Finance - Administration & Budgets   \n",
       "895       2024                                           Planning   \n",
       "861       2024                               Comptroller - Audits   \n",
       "890       2024                Mayor's Office of Homeless Services   \n",
       "865       2024                              Councilmatic Services   \n",
       "894       2024                    Office of the Inspector General   \n",
       "860       2024                     Comptroller - Accounts Payable   \n",
       "857       2024                             Cable & Communications   \n",
       "891       2024                         Municipal Zoning & Appeals   \n",
       "893       2024  Office of Small and Minority Business Advocacy...   \n",
       "\n",
       "    Total Salary Spend   Salary Budget  Discrepancy Percent  \n",
       "870         575,234.50      291,987.73                97.01  \n",
       "904      11,804,606.66    6,407,503.74                84.23  \n",
       "907         140,000.64       80,000.00                75.00  \n",
       "901         755,060.15      525,899.88                43.57  \n",
       "908      18,567,076.97   13,355,700.62                39.02  \n",
       "896     299,080,950.52  219,924,247.65                35.99  \n",
       "912       2,450,226.69    1,837,576.90                33.34  \n",
       "877     175,657,307.62  138,157,902.38                27.14  \n",
       "914      10,362,753.17    8,160,165.22                26.99  \n",
       "899      10,708,659.18    8,478,894.67                26.30  \n",
       "903       8,345,876.32    6,905,071.83                20.87  \n",
       "913       2,772,080.11    2,330,952.19                18.92  \n",
       "911      43,771,936.45   37,825,472.68                15.72  \n",
       "900     101,779,095.60   88,842,579.67                14.56  \n",
       "867         476,240.50      436,650.48                 9.07  \n",
       "898      28,401,846.46   26,401,681.84                 7.58  \n",
       "878      23,492,544.85   21,949,986.80                 7.03  \n",
       "902      10,393,099.05    9,878,681.62                 5.21  \n",
       "855       3,031,334.42    2,903,281.32                 4.41  \n",
       "885       1,845,207.94    1,793,351.42                 2.89  \n",
       "873       6,336,706.00    6,191,580.13                 2.34  \n",
       "862       1,560,140.92    1,541,736.00                 1.19  \n",
       "863         787,847.47      786,238.40                 0.20  \n",
       "868          51,000.56       51,000.00                 0.00  \n",
       "859       1,546,834.22    1,548,637.61                -0.12  \n",
       "869      23,136,502.21   23,195,833.12                -0.26  \n",
       "910       2,993,457.82    3,009,596.84                -0.54  \n",
       "882         671,333.03      682,040.78                -1.57  \n",
       "864       8,386,708.15    8,586,733.93                -2.33  \n",
       "876         659,425.07      678,645.52                -2.83  \n",
       "883      11,667,219.68   12,205,514.00                -4.41  \n",
       "879      40,038,760.01   41,957,836.73                -4.57  \n",
       "856      10,033,917.17   10,560,511.50                -4.99  \n",
       "906       2,701,560.96    2,851,659.38                -5.26  \n",
       "858       5,011,645.11    5,355,925.11                -6.43  \n",
       "905       2,920,553.06    3,128,361.07                -6.64  \n",
       "880      24,200,220.57   25,961,629.38                -6.78  \n",
       "892       2,687,733.72    2,890,206.07                -7.01  \n",
       "887       3,819,907.32    4,119,916.00                -7.28  \n",
       "897      19,065,683.83   20,626,949.64                -7.57  \n",
       "884         497,273.95      539,028.53                -7.75  \n",
       "881       6,059,087.45    6,581,059.73                -7.93  \n",
       "866       7,863,071.88    8,577,031.26                -8.32  \n",
       "886       6,640,099.68    7,281,301.66                -8.81  \n",
       "909      26,602,775.08   29,197,899.68                -8.89  \n",
       "871       1,830,081.08    2,008,703.26                -8.89  \n",
       "874       3,272,062.18    3,646,789.67               -10.28  \n",
       "875         563,199.92      632,239.83               -10.92  \n",
       "889      13,298,398.16   14,951,867.92               -11.06  \n",
       "888      11,605,311.85   13,095,616.89               -11.38  \n",
       "872       3,993,324.66    4,506,975.22               -11.40  \n",
       "895       4,052,917.33    4,648,959.67               -12.82  \n",
       "861       2,550,351.60    3,014,878.04               -15.41  \n",
       "890       3,839,558.98    4,545,829.36               -15.54  \n",
       "865         391,748.14      469,341.48               -16.53  \n",
       "894       1,245,651.76    1,497,599.21               -16.82  \n",
       "860         575,014.31      694,311.16               -17.18  \n",
       "857         326,190.82      395,616.13               -17.55  \n",
       "891         382,675.94      466,175.04               -17.91  \n",
       "893       1,733,883.21    2,460,088.35               -29.52  "
      ]
     },
     "execution_count": 55,
     "metadata": {},
     "output_type": "execute_result"
    }
   ],
   "source": [
    "# code for 11\n",
    "def department_discrepancy(year, data):\n",
    "    # Group by 'CalYear' and 'Department', summing 'GrossPay' and 'AnnualSalary'\n",
    "    department = data.groupby(['FiscalYear', 'AgencyName'])[['GrossPay', 'AnnualSalary']].sum().reset_index()\n",
    "\n",
    "    # Filter the data by the given year\n",
    "    department = department[department['FiscalYear'] == str(year)]\n",
    "\n",
    "    # Calculate the percentage difference: ((GrossPay - AnnualSalary) / AnnualSalary) * 100\n",
    "    department['Pay_Discrepancy_Pct'] = ((department['GrossPay'] - department['AnnualSalary']) / department['AnnualSalary']) * 100\n",
    "\n",
    "    # Round the Pay_Discrepancy_Pct to 2 decimal places\n",
    "    department['Pay_Discrepancy_Pct'] = department['Pay_Discrepancy_Pct'].round(2)\n",
    "\n",
    "    # Sort the DataFrame by 'Pay_Discrepancy_Pct' in ascending order\n",
    "    department = department.sort_values(by='Pay_Discrepancy_Pct', ascending=False)\n",
    "\n",
    "    # Format 'GrossPay' and 'AnnualSalary' with thousands separators\n",
    "    department['GrossPay'] = department['GrossPay'].apply(lambda x: f\"{x:,.2f}\")\n",
    "    department['AnnualSalary'] = department['AnnualSalary'].apply(lambda x: f\"{x:,.2f}\")\n",
    "\n",
    "    # Rename columns for final output\n",
    "    department = department.rename(columns={\n",
    "        'GrossPay': 'Total Salary Spend',\n",
    "        'AnnualSalary': 'Salary Budget',\n",
    "        'Pay_Discrepancy_Pct': 'Discrepancy Percent'\n",
    "    })\n",
    "\n",
    "    # Return the result\n",
    "    return department\n",
    "\n",
    "# Example usage:\n",
    "year = 2024\n",
    "department = department_discrepancy(year, sal)\n",
    "department"
   ]
  }
 ],
 "metadata": {
  "kernelspec": {
   "display_name": "venv",
   "language": "python",
   "name": "python3"
  },
  "language_info": {
   "codemirror_mode": {
    "name": "ipython",
    "version": 3
   },
   "file_extension": ".py",
   "mimetype": "text/x-python",
   "name": "python",
   "nbconvert_exporter": "python",
   "pygments_lexer": "ipython3",
   "version": "3.12.2"
  }
 },
 "nbformat": 4,
 "nbformat_minor": 2
}
