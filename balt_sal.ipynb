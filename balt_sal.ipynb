{
 "cells": [
  {
   "cell_type": "code",
   "execution_count": 2,
   "metadata": {},
   "outputs": [],
   "source": [
    "import pandas as pd \n",
    "import numpy as np\n",
    "import re\n",
    "import plotly.express as px\n",
    "import plotly.graph_objects as go\n",
    "import plotly.figure_factory as ff"
   ]
  },
  {
   "cell_type": "code",
   "execution_count": 3,
   "metadata": {},
   "outputs": [],
   "source": [
    "sal = pd.read_csv('data/salary.csv')"
   ]
  },
  {
   "cell_type": "code",
   "execution_count": 4,
   "metadata": {},
   "outputs": [],
   "source": [
    "# # convert HireDate to datetime\n",
    "# sal['HireDate'] = pd.to_datetime(sal['HireDate'], unit='ms')\n",
    "# # sal['HireDate'] = sal['HireDate'].dt.strftime('%m%d%Y')\n",
    "\n",
    "# # clean FiscalYear\n",
    "# sal['FiscalYear'] = sal['FiscalYear'].str.replace('^FY', '', regex=True)\n",
    "\n",
    "# # drop rows with missing values in GrossPay\n",
    "# sal = sal.dropna(subset=['GrossPay'])\n",
    "\n",
    "# # removes the trailing number in parentheses from AgencyName\n",
    "# sal['AgencyName'] = sal['AgencyName'].str.replace(r'\\s\\(\\d+\\)', '', regex=True)\n",
    "\n",
    "# # strip spaces \n",
    "# sal[sal.select_dtypes('object').columns] = sal[sal.select_dtypes('object').columns].apply(lambda x: x.str.strip())\n",
    "\n",
    "# # List of words to replace\n",
    "# replace_dict = {\n",
    "#     'Police': 'Police Department',\n",
    "#     'Fire': 'Fire Department',\n",
    "# }\n",
    "\n",
    "# # Loop through the dictionary and replace each word with regex\n",
    "# for old, new in replace_dict.items():\n",
    "#     sal['AgencyName'] = sal['AgencyName'].apply(lambda x: re.sub(rf'\\b{re.escape(old)}\\b(?! Department)', new, str(x)) if isinstance(x, str) else x)\n",
    "\n",
    "# # Step 1: Fill JobTitle with AgencyName where JobTitle is NaN or empty if no agency name drops\n",
    "# sal['JobTitle'] = sal['JobTitle'].fillna(sal['AgencyName'])\n",
    "# sal['JobTitle'] = sal['JobTitle'].apply(lambda x: x if isinstance(x, str) and x.strip() != \"\" else sal['AgencyName'])\n",
    "# sal = sal[sal['AgencyName'].notna() & (sal['AgencyName'].str.strip() != \"\")]\n",
    "\n",
    "# # Remove rows where AnnualSalary is NaN or 0\n",
    "# sal = sal[sal['AnnualSalary'].notna() & (sal['AnnualSalary'] != 0)]\n",
    "\n",
    "# # Remove rows where GrossPay is NaN or 0\n",
    "# sal = sal[sal['GrossPay'].notna() & (sal['GrossPay'] != 0)]\n",
    "\n",
    "# # Discrepancy in amount\n",
    "# sal['Pay_Discrepancy'] = sal['GrossPay'] - sal['AnnualSalary']\n",
    "\n",
    "# # Discrepancy in percentage (relative to AnnualSalary)\n",
    "# sal['Pay_Discrepancy_Pct'] = ((sal['GrossPay'] - sal['AnnualSalary']) / sal['AnnualSalary']) * 100\n",
    "\n"
   ]
  },
  {
   "cell_type": "code",
   "execution_count": 5,
   "metadata": {},
   "outputs": [
    {
     "data": {
      "text/html": [
       "<div>\n",
       "<style scoped>\n",
       "    .dataframe tbody tr th:only-of-type {\n",
       "        vertical-align: middle;\n",
       "    }\n",
       "\n",
       "    .dataframe tbody tr th {\n",
       "        vertical-align: top;\n",
       "    }\n",
       "\n",
       "    .dataframe thead th {\n",
       "        text-align: right;\n",
       "    }\n",
       "</style>\n",
       "<table border=\"1\" class=\"dataframe\">\n",
       "  <thead>\n",
       "    <tr style=\"text-align: right;\">\n",
       "      <th></th>\n",
       "      <th>ID</th>\n",
       "      <th>Name</th>\n",
       "      <th>JobTitle</th>\n",
       "      <th>AgencyID</th>\n",
       "      <th>AgencyName</th>\n",
       "      <th>HireDate</th>\n",
       "      <th>AnnualSalary</th>\n",
       "      <th>GrossPay</th>\n",
       "      <th>FiscalYear</th>\n",
       "      <th>Pay_Discrepancy</th>\n",
       "      <th>Pay_Discrepancy_Pct</th>\n",
       "    </tr>\n",
       "  </thead>\n",
       "  <tbody>\n",
       "    <tr>\n",
       "      <th>0</th>\n",
       "      <td>1</td>\n",
       "      <td>Aaron,Patricia G</td>\n",
       "      <td>Facilities/Office Services II</td>\n",
       "      <td>A03</td>\n",
       "      <td>OED-Employment Dev</td>\n",
       "      <td>1979-10-24</td>\n",
       "      <td>50845.0</td>\n",
       "      <td>45505.94</td>\n",
       "      <td>2011</td>\n",
       "      <td>-5339.06</td>\n",
       "      <td>-10.500659</td>\n",
       "    </tr>\n",
       "    <tr>\n",
       "      <th>1</th>\n",
       "      <td>2</td>\n",
       "      <td>Aaron,Petra L</td>\n",
       "      <td>ASSISTANT STATE'S ATTORNEY</td>\n",
       "      <td>A29</td>\n",
       "      <td>States Attorneys Office</td>\n",
       "      <td>2006-09-25</td>\n",
       "      <td>56595.0</td>\n",
       "      <td>51588.89</td>\n",
       "      <td>2011</td>\n",
       "      <td>-5006.11</td>\n",
       "      <td>-8.845499</td>\n",
       "    </tr>\n",
       "    <tr>\n",
       "      <th>2</th>\n",
       "      <td>3</td>\n",
       "      <td>Abaineh,Yohannes T</td>\n",
       "      <td>EPIDEMIOLOGIST</td>\n",
       "      <td>A65</td>\n",
       "      <td>HLTH-Health Department</td>\n",
       "      <td>2009-07-23</td>\n",
       "      <td>56500.0</td>\n",
       "      <td>50633.26</td>\n",
       "      <td>2011</td>\n",
       "      <td>-5866.74</td>\n",
       "      <td>-10.383611</td>\n",
       "    </tr>\n",
       "    <tr>\n",
       "      <th>4</th>\n",
       "      <td>5</td>\n",
       "      <td>Abdi,Ezekiel W</td>\n",
       "      <td>POLICE OFFICER</td>\n",
       "      <td>A99</td>\n",
       "      <td>Police Department</td>\n",
       "      <td>2007-06-14</td>\n",
       "      <td>50919.0</td>\n",
       "      <td>51421.73</td>\n",
       "      <td>2011</td>\n",
       "      <td>502.73</td>\n",
       "      <td>0.987313</td>\n",
       "    </tr>\n",
       "    <tr>\n",
       "      <th>5</th>\n",
       "      <td>6</td>\n",
       "      <td>Abdul Hamid,Umar</td>\n",
       "      <td>LIQUOR BOARD INSPECTOR II</td>\n",
       "      <td>A09</td>\n",
       "      <td>Liquor License Board</td>\n",
       "      <td>1995-01-17</td>\n",
       "      <td>43278.0</td>\n",
       "      <td>39116.93</td>\n",
       "      <td>2011</td>\n",
       "      <td>-4161.07</td>\n",
       "      <td>-9.614747</td>\n",
       "    </tr>\n",
       "  </tbody>\n",
       "</table>\n",
       "</div>"
      ],
      "text/plain": [
       "   ID                Name                       JobTitle AgencyID  \\\n",
       "0   1    Aaron,Patricia G  Facilities/Office Services II      A03   \n",
       "1   2       Aaron,Petra L     ASSISTANT STATE'S ATTORNEY      A29   \n",
       "2   3  Abaineh,Yohannes T                 EPIDEMIOLOGIST      A65   \n",
       "4   5      Abdi,Ezekiel W                 POLICE OFFICER      A99   \n",
       "5   6    Abdul Hamid,Umar      LIQUOR BOARD INSPECTOR II      A09   \n",
       "\n",
       "                AgencyName   HireDate  AnnualSalary  GrossPay FiscalYear  \\\n",
       "0       OED-Employment Dev 1979-10-24       50845.0  45505.94       2011   \n",
       "1  States Attorneys Office 2006-09-25       56595.0  51588.89       2011   \n",
       "2   HLTH-Health Department 2009-07-23       56500.0  50633.26       2011   \n",
       "4        Police Department 2007-06-14       50919.0  51421.73       2011   \n",
       "5     Liquor License Board 1995-01-17       43278.0  39116.93       2011   \n",
       "\n",
       "   Pay_Discrepancy  Pay_Discrepancy_Pct  \n",
       "0         -5339.06           -10.500659  \n",
       "1         -5006.11            -8.845499  \n",
       "2         -5866.74           -10.383611  \n",
       "4           502.73             0.987313  \n",
       "5         -4161.07            -9.614747  "
      ]
     },
     "execution_count": 5,
     "metadata": {},
     "output_type": "execute_result"
    }
   ],
   "source": [
    "def clean(sal):\n",
    "    # convert HireDate to datetime\n",
    "    sal['HireDate'] = pd.to_datetime(sal['HireDate'], unit='ms')\n",
    "    # sal['HireDate'] = sal['HireDate'].dt.strftime('%m%d%Y')\n",
    "\n",
    "    # clean FiscalYear\n",
    "    sal['FiscalYear'] = sal['FiscalYear'].str.replace('^FY', '', regex=True)\n",
    "\n",
    "    # drop rows with missing values in GrossPay\n",
    "    sal = sal.dropna(subset=['GrossPay'])\n",
    "\n",
    "    # removes the trailing number in parentheses from AgencyName\n",
    "    sal['AgencyName'] = sal['AgencyName'].str.replace(\n",
    "        r'\\s\\(\\d+\\)', '', regex=True)\n",
    "\n",
    "    # strip spaces\n",
    "    sal[sal.select_dtypes('object').columns] = sal[sal.select_dtypes(\n",
    "        'object').columns].apply(lambda x: x.str.strip())\n",
    "\n",
    "    # List of words to replace\n",
    "    replace_dict = {\n",
    "        'Police': 'Police Department',\n",
    "        'Fire': 'Fire Department',\n",
    "    }\n",
    "\n",
    "    # Loop through the dictionary and replace each word with regex\n",
    "    for old, new in replace_dict.items():\n",
    "        sal['AgencyName'] = sal['AgencyName'].apply(lambda x: re.sub(\n",
    "            rf'\\b{re.escape(old)}\\b(?! Department)', new, str(x)) if isinstance(x, str) else x)\n",
    "\n",
    "    # Step 1: Fill JobTitle with AgencyName where JobTitle is NaN or empty if no agency name drops\n",
    "    sal['JobTitle'] = sal['JobTitle'].fillna(sal['AgencyName'])\n",
    "    sal['JobTitle'] = sal['JobTitle'].apply(lambda x: x if isinstance(\n",
    "        x, str) and x.strip() != \"\" else sal['AgencyName'])\n",
    "    sal = sal[sal['AgencyName'].notna() & (\n",
    "        sal['AgencyName'].str.strip() != \"\")]\n",
    "\n",
    "    # Remove rows where AnnualSalary is NaN or 0\n",
    "    sal = sal[sal['AnnualSalary'].notna() & (sal['AnnualSalary'] != 0)]\n",
    "\n",
    "    # Remove rows where GrossPay is NaN or 0\n",
    "    sal = sal[sal['GrossPay'].notna() & (sal['GrossPay'] != 0)]\n",
    "\n",
    "\n",
    "    # >>> Filter out GrossPay < 30000\n",
    "    sal = sal[sal['GrossPay'] >= 30000]\n",
    "\n",
    "    # Discrepancy in amount\n",
    "    sal['Pay_Discrepancy'] = sal['GrossPay'] - sal['AnnualSalary']\n",
    "\n",
    "    # Discrepancy in percentage (relative to AnnualSalary)\n",
    "    sal['Pay_Discrepancy_Pct'] = (\n",
    "        (sal['GrossPay'] - sal['AnnualSalary']) / sal['AnnualSalary']) * 100\n",
    "\n",
    "    return sal\n",
    "\n",
    "sal = clean(sal)\n",
    "sal.head()"
   ]
  },
  {
   "cell_type": "code",
   "execution_count": 6,
   "metadata": {},
   "outputs": [],
   "source": [
    "## exports annual sal == 0 and gross pay > 60000\n",
    "# annual_sal_err = sal[(sal['AnnualSalary'] == 0) & (sal['GrossPay'] > 60000)]\n",
    "# annual_sal_err\n",
    "# annual_sal_err.to_csv('check_into/annual_sal_err.csv', index=False)\n"
   ]
  },
  {
   "cell_type": "code",
   "execution_count": 7,
   "metadata": {},
   "outputs": [],
   "source": [
    "# # filter by year \n",
    "\n",
    "# def filter_by_year(df, year):\n",
    "#     \"\"\"\n",
    "#     Filters the DataFrame by the given year.\n",
    "    \n",
    "#     Parameters:\n",
    "#     df (DataFrame): The DataFrame to filter.\n",
    "#     year (int): The year to filter by.\n",
    "    \n",
    "#     Returns:\n",
    "#     DataFrame: The filtered DataFrame.\n",
    "#     \"\"\"\n",
    "#     return df[df['FiscalYear'] == str(year)]\n",
    "\n",
    "# # Example usage:\n",
    "# year = 2024\n",
    "# filtered_2024 = filter_by_year(sal, year)"
   ]
  },
  {
   "cell_type": "code",
   "execution_count": 8,
   "metadata": {},
   "outputs": [],
   "source": [
    "\n",
    "# def agency_breakdown(filtered_2024):\n",
    "#     department = filtered_2024.groupby('AgencyName').agg({\n",
    "#     'AnnualSalary': 'sum',\n",
    "#     'GrossPay': 'sum',\n",
    "#     }).reset_index()\n",
    "\n",
    "#     # Now calculate discrepancies after aggregation\n",
    "#     department['Pay_Discrepancy'] = department['GrossPay'] - department['AnnualSalary']\n",
    "#     department['Pay_Discrepancy_Pct'] = (department['Pay_Discrepancy'] / department['AnnualSalary']) * 100\n",
    "\n",
    "#     department = department.sort_values(by='Pay_Discrepancy', ascending=False)\n",
    "    \n",
    "#     return department\n",
    "\n",
    "# agency_breakdown(filtered_2024)"
   ]
  },
  {
   "cell_type": "code",
   "execution_count": 9,
   "metadata": {},
   "outputs": [
    {
     "data": {
      "text/html": [
       "<div>\n",
       "<style scoped>\n",
       "    .dataframe tbody tr th:only-of-type {\n",
       "        vertical-align: middle;\n",
       "    }\n",
       "\n",
       "    .dataframe tbody tr th {\n",
       "        vertical-align: top;\n",
       "    }\n",
       "\n",
       "    .dataframe thead th {\n",
       "        text-align: right;\n",
       "    }\n",
       "</style>\n",
       "<table border=\"1\" class=\"dataframe\">\n",
       "  <thead>\n",
       "    <tr style=\"text-align: right;\">\n",
       "      <th></th>\n",
       "      <th>ID</th>\n",
       "      <th>Name</th>\n",
       "      <th>JobTitle</th>\n",
       "      <th>AgencyID</th>\n",
       "      <th>AgencyName</th>\n",
       "      <th>HireDate</th>\n",
       "      <th>AnnualSalary</th>\n",
       "      <th>GrossPay</th>\n",
       "      <th>FiscalYear</th>\n",
       "      <th>Pay_Discrepancy</th>\n",
       "      <th>Pay_Discrepancy_Pct</th>\n",
       "    </tr>\n",
       "  </thead>\n",
       "  <tbody>\n",
       "    <tr>\n",
       "      <th>0</th>\n",
       "      <td>1</td>\n",
       "      <td>Aaron,Patricia G</td>\n",
       "      <td>Facilities/Office Services II</td>\n",
       "      <td>A03</td>\n",
       "      <td>OED-Employment Dev</td>\n",
       "      <td>1979-10-24</td>\n",
       "      <td>50845.0</td>\n",
       "      <td>45505.94</td>\n",
       "      <td>2011</td>\n",
       "      <td>-5339.06</td>\n",
       "      <td>-10.500659</td>\n",
       "    </tr>\n",
       "  </tbody>\n",
       "</table>\n",
       "</div>"
      ],
      "text/plain": [
       "   ID              Name                       JobTitle AgencyID  \\\n",
       "0   1  Aaron,Patricia G  Facilities/Office Services II      A03   \n",
       "\n",
       "           AgencyName   HireDate  AnnualSalary  GrossPay FiscalYear  \\\n",
       "0  OED-Employment Dev 1979-10-24       50845.0  45505.94       2011   \n",
       "\n",
       "   Pay_Discrepancy  Pay_Discrepancy_Pct  \n",
       "0         -5339.06           -10.500659  "
      ]
     },
     "execution_count": 9,
     "metadata": {},
     "output_type": "execute_result"
    }
   ],
   "source": [
    "sal.head(1)"
   ]
  },
  {
   "cell_type": "code",
   "execution_count": 10,
   "metadata": {},
   "outputs": [
    {
     "data": {
      "application/vnd.plotly.v1+json": {
       "config": {
        "plotlyServerURL": "https://plot.ly"
       },
       "data": [
        {
         "delta": {
          "decreasing": {
           "color": "green"
          },
          "increasing": {
           "color": "red"
          },
          "reference": 837383583.61
         },
         "gauge": {
          "axis": {
           "range": [
            0,
            921121941.9710001
           ]
          },
          "bar": {
           "color": "rgba(0,0,0,0)"
          },
          "steps": [
           {
            "color": "#004080",
            "range": [
             0,
             837383583.61
            ]
           },
           {
            "color": "yellow",
            "range": [
             837383583.61,
             995073679.88
            ]
           }
          ],
          "threshold": {
           "line": {
            "color": "red",
            "width": 4
           },
           "thickness": 0.95,
           "value": 995073679.88
          }
         },
         "mode": "gauge+number+delta",
         "title": {
          "font": {
           "size": 20
          },
          "text": "2024 Budgeted Salary Spend vs. Salary Spend Actual"
         },
         "type": "indicator",
         "value": 995073679.88
        }
       ],
       "layout": {
        "template": {
         "data": {
          "bar": [
           {
            "error_x": {
             "color": "#2a3f5f"
            },
            "error_y": {
             "color": "#2a3f5f"
            },
            "marker": {
             "line": {
              "color": "#E5ECF6",
              "width": 0.5
             },
             "pattern": {
              "fillmode": "overlay",
              "size": 10,
              "solidity": 0.2
             }
            },
            "type": "bar"
           }
          ],
          "barpolar": [
           {
            "marker": {
             "line": {
              "color": "#E5ECF6",
              "width": 0.5
             },
             "pattern": {
              "fillmode": "overlay",
              "size": 10,
              "solidity": 0.2
             }
            },
            "type": "barpolar"
           }
          ],
          "carpet": [
           {
            "aaxis": {
             "endlinecolor": "#2a3f5f",
             "gridcolor": "white",
             "linecolor": "white",
             "minorgridcolor": "white",
             "startlinecolor": "#2a3f5f"
            },
            "baxis": {
             "endlinecolor": "#2a3f5f",
             "gridcolor": "white",
             "linecolor": "white",
             "minorgridcolor": "white",
             "startlinecolor": "#2a3f5f"
            },
            "type": "carpet"
           }
          ],
          "choropleth": [
           {
            "colorbar": {
             "outlinewidth": 0,
             "ticks": ""
            },
            "type": "choropleth"
           }
          ],
          "contour": [
           {
            "colorbar": {
             "outlinewidth": 0,
             "ticks": ""
            },
            "colorscale": [
             [
              0,
              "#0d0887"
             ],
             [
              0.1111111111111111,
              "#46039f"
             ],
             [
              0.2222222222222222,
              "#7201a8"
             ],
             [
              0.3333333333333333,
              "#9c179e"
             ],
             [
              0.4444444444444444,
              "#bd3786"
             ],
             [
              0.5555555555555556,
              "#d8576b"
             ],
             [
              0.6666666666666666,
              "#ed7953"
             ],
             [
              0.7777777777777778,
              "#fb9f3a"
             ],
             [
              0.8888888888888888,
              "#fdca26"
             ],
             [
              1,
              "#f0f921"
             ]
            ],
            "type": "contour"
           }
          ],
          "contourcarpet": [
           {
            "colorbar": {
             "outlinewidth": 0,
             "ticks": ""
            },
            "type": "contourcarpet"
           }
          ],
          "heatmap": [
           {
            "colorbar": {
             "outlinewidth": 0,
             "ticks": ""
            },
            "colorscale": [
             [
              0,
              "#0d0887"
             ],
             [
              0.1111111111111111,
              "#46039f"
             ],
             [
              0.2222222222222222,
              "#7201a8"
             ],
             [
              0.3333333333333333,
              "#9c179e"
             ],
             [
              0.4444444444444444,
              "#bd3786"
             ],
             [
              0.5555555555555556,
              "#d8576b"
             ],
             [
              0.6666666666666666,
              "#ed7953"
             ],
             [
              0.7777777777777778,
              "#fb9f3a"
             ],
             [
              0.8888888888888888,
              "#fdca26"
             ],
             [
              1,
              "#f0f921"
             ]
            ],
            "type": "heatmap"
           }
          ],
          "histogram": [
           {
            "marker": {
             "pattern": {
              "fillmode": "overlay",
              "size": 10,
              "solidity": 0.2
             }
            },
            "type": "histogram"
           }
          ],
          "histogram2d": [
           {
            "colorbar": {
             "outlinewidth": 0,
             "ticks": ""
            },
            "colorscale": [
             [
              0,
              "#0d0887"
             ],
             [
              0.1111111111111111,
              "#46039f"
             ],
             [
              0.2222222222222222,
              "#7201a8"
             ],
             [
              0.3333333333333333,
              "#9c179e"
             ],
             [
              0.4444444444444444,
              "#bd3786"
             ],
             [
              0.5555555555555556,
              "#d8576b"
             ],
             [
              0.6666666666666666,
              "#ed7953"
             ],
             [
              0.7777777777777778,
              "#fb9f3a"
             ],
             [
              0.8888888888888888,
              "#fdca26"
             ],
             [
              1,
              "#f0f921"
             ]
            ],
            "type": "histogram2d"
           }
          ],
          "histogram2dcontour": [
           {
            "colorbar": {
             "outlinewidth": 0,
             "ticks": ""
            },
            "colorscale": [
             [
              0,
              "#0d0887"
             ],
             [
              0.1111111111111111,
              "#46039f"
             ],
             [
              0.2222222222222222,
              "#7201a8"
             ],
             [
              0.3333333333333333,
              "#9c179e"
             ],
             [
              0.4444444444444444,
              "#bd3786"
             ],
             [
              0.5555555555555556,
              "#d8576b"
             ],
             [
              0.6666666666666666,
              "#ed7953"
             ],
             [
              0.7777777777777778,
              "#fb9f3a"
             ],
             [
              0.8888888888888888,
              "#fdca26"
             ],
             [
              1,
              "#f0f921"
             ]
            ],
            "type": "histogram2dcontour"
           }
          ],
          "mesh3d": [
           {
            "colorbar": {
             "outlinewidth": 0,
             "ticks": ""
            },
            "type": "mesh3d"
           }
          ],
          "parcoords": [
           {
            "line": {
             "colorbar": {
              "outlinewidth": 0,
              "ticks": ""
             }
            },
            "type": "parcoords"
           }
          ],
          "pie": [
           {
            "automargin": true,
            "type": "pie"
           }
          ],
          "scatter": [
           {
            "fillpattern": {
             "fillmode": "overlay",
             "size": 10,
             "solidity": 0.2
            },
            "type": "scatter"
           }
          ],
          "scatter3d": [
           {
            "line": {
             "colorbar": {
              "outlinewidth": 0,
              "ticks": ""
             }
            },
            "marker": {
             "colorbar": {
              "outlinewidth": 0,
              "ticks": ""
             }
            },
            "type": "scatter3d"
           }
          ],
          "scattercarpet": [
           {
            "marker": {
             "colorbar": {
              "outlinewidth": 0,
              "ticks": ""
             }
            },
            "type": "scattercarpet"
           }
          ],
          "scattergeo": [
           {
            "marker": {
             "colorbar": {
              "outlinewidth": 0,
              "ticks": ""
             }
            },
            "type": "scattergeo"
           }
          ],
          "scattergl": [
           {
            "marker": {
             "colorbar": {
              "outlinewidth": 0,
              "ticks": ""
             }
            },
            "type": "scattergl"
           }
          ],
          "scattermap": [
           {
            "marker": {
             "colorbar": {
              "outlinewidth": 0,
              "ticks": ""
             }
            },
            "type": "scattermap"
           }
          ],
          "scattermapbox": [
           {
            "marker": {
             "colorbar": {
              "outlinewidth": 0,
              "ticks": ""
             }
            },
            "type": "scattermapbox"
           }
          ],
          "scatterpolar": [
           {
            "marker": {
             "colorbar": {
              "outlinewidth": 0,
              "ticks": ""
             }
            },
            "type": "scatterpolar"
           }
          ],
          "scatterpolargl": [
           {
            "marker": {
             "colorbar": {
              "outlinewidth": 0,
              "ticks": ""
             }
            },
            "type": "scatterpolargl"
           }
          ],
          "scatterternary": [
           {
            "marker": {
             "colorbar": {
              "outlinewidth": 0,
              "ticks": ""
             }
            },
            "type": "scatterternary"
           }
          ],
          "surface": [
           {
            "colorbar": {
             "outlinewidth": 0,
             "ticks": ""
            },
            "colorscale": [
             [
              0,
              "#0d0887"
             ],
             [
              0.1111111111111111,
              "#46039f"
             ],
             [
              0.2222222222222222,
              "#7201a8"
             ],
             [
              0.3333333333333333,
              "#9c179e"
             ],
             [
              0.4444444444444444,
              "#bd3786"
             ],
             [
              0.5555555555555556,
              "#d8576b"
             ],
             [
              0.6666666666666666,
              "#ed7953"
             ],
             [
              0.7777777777777778,
              "#fb9f3a"
             ],
             [
              0.8888888888888888,
              "#fdca26"
             ],
             [
              1,
              "#f0f921"
             ]
            ],
            "type": "surface"
           }
          ],
          "table": [
           {
            "cells": {
             "fill": {
              "color": "#EBF0F8"
             },
             "line": {
              "color": "white"
             }
            },
            "header": {
             "fill": {
              "color": "#C8D4E3"
             },
             "line": {
              "color": "white"
             }
            },
            "type": "table"
           }
          ]
         },
         "layout": {
          "annotationdefaults": {
           "arrowcolor": "#2a3f5f",
           "arrowhead": 0,
           "arrowwidth": 1
          },
          "autotypenumbers": "strict",
          "coloraxis": {
           "colorbar": {
            "outlinewidth": 0,
            "ticks": ""
           }
          },
          "colorscale": {
           "diverging": [
            [
             0,
             "#8e0152"
            ],
            [
             0.1,
             "#c51b7d"
            ],
            [
             0.2,
             "#de77ae"
            ],
            [
             0.3,
             "#f1b6da"
            ],
            [
             0.4,
             "#fde0ef"
            ],
            [
             0.5,
             "#f7f7f7"
            ],
            [
             0.6,
             "#e6f5d0"
            ],
            [
             0.7,
             "#b8e186"
            ],
            [
             0.8,
             "#7fbc41"
            ],
            [
             0.9,
             "#4d9221"
            ],
            [
             1,
             "#276419"
            ]
           ],
           "sequential": [
            [
             0,
             "#0d0887"
            ],
            [
             0.1111111111111111,
             "#46039f"
            ],
            [
             0.2222222222222222,
             "#7201a8"
            ],
            [
             0.3333333333333333,
             "#9c179e"
            ],
            [
             0.4444444444444444,
             "#bd3786"
            ],
            [
             0.5555555555555556,
             "#d8576b"
            ],
            [
             0.6666666666666666,
             "#ed7953"
            ],
            [
             0.7777777777777778,
             "#fb9f3a"
            ],
            [
             0.8888888888888888,
             "#fdca26"
            ],
            [
             1,
             "#f0f921"
            ]
           ],
           "sequentialminus": [
            [
             0,
             "#0d0887"
            ],
            [
             0.1111111111111111,
             "#46039f"
            ],
            [
             0.2222222222222222,
             "#7201a8"
            ],
            [
             0.3333333333333333,
             "#9c179e"
            ],
            [
             0.4444444444444444,
             "#bd3786"
            ],
            [
             0.5555555555555556,
             "#d8576b"
            ],
            [
             0.6666666666666666,
             "#ed7953"
            ],
            [
             0.7777777777777778,
             "#fb9f3a"
            ],
            [
             0.8888888888888888,
             "#fdca26"
            ],
            [
             1,
             "#f0f921"
            ]
           ]
          },
          "colorway": [
           "#636efa",
           "#EF553B",
           "#00cc96",
           "#ab63fa",
           "#FFA15A",
           "#19d3f3",
           "#FF6692",
           "#B6E880",
           "#FF97FF",
           "#FECB52"
          ],
          "font": {
           "color": "#2a3f5f"
          },
          "geo": {
           "bgcolor": "white",
           "lakecolor": "white",
           "landcolor": "#E5ECF6",
           "showlakes": true,
           "showland": true,
           "subunitcolor": "white"
          },
          "hoverlabel": {
           "align": "left"
          },
          "hovermode": "closest",
          "mapbox": {
           "style": "light"
          },
          "paper_bgcolor": "white",
          "plot_bgcolor": "#E5ECF6",
          "polar": {
           "angularaxis": {
            "gridcolor": "white",
            "linecolor": "white",
            "ticks": ""
           },
           "bgcolor": "#E5ECF6",
           "radialaxis": {
            "gridcolor": "white",
            "linecolor": "white",
            "ticks": ""
           }
          },
          "scene": {
           "xaxis": {
            "backgroundcolor": "#E5ECF6",
            "gridcolor": "white",
            "gridwidth": 2,
            "linecolor": "white",
            "showbackground": true,
            "ticks": "",
            "zerolinecolor": "white"
           },
           "yaxis": {
            "backgroundcolor": "#E5ECF6",
            "gridcolor": "white",
            "gridwidth": 2,
            "linecolor": "white",
            "showbackground": true,
            "ticks": "",
            "zerolinecolor": "white"
           },
           "zaxis": {
            "backgroundcolor": "#E5ECF6",
            "gridcolor": "white",
            "gridwidth": 2,
            "linecolor": "white",
            "showbackground": true,
            "ticks": "",
            "zerolinecolor": "white"
           }
          },
          "shapedefaults": {
           "line": {
            "color": "#2a3f5f"
           }
          },
          "ternary": {
           "aaxis": {
            "gridcolor": "white",
            "linecolor": "white",
            "ticks": ""
           },
           "baxis": {
            "gridcolor": "white",
            "linecolor": "white",
            "ticks": ""
           },
           "bgcolor": "#E5ECF6",
           "caxis": {
            "gridcolor": "white",
            "linecolor": "white",
            "ticks": ""
           }
          },
          "title": {
           "x": 0.05
          },
          "xaxis": {
           "automargin": true,
           "gridcolor": "white",
           "linecolor": "white",
           "ticks": "",
           "title": {
            "standoff": 15
           },
           "zerolinecolor": "white",
           "zerolinewidth": 2
          },
          "yaxis": {
           "automargin": true,
           "gridcolor": "white",
           "linecolor": "white",
           "ticks": "",
           "title": {
            "standoff": 15
           },
           "zerolinecolor": "white",
           "zerolinewidth": 2
          }
         }
        },
        "title": {
         "font": {
          "size": 20
         }
        }
       }
      }
     },
     "metadata": {},
     "output_type": "display_data"
    }
   ],
   "source": [
    "# code for 5\n",
    "def plot_info(year, data) -> None:\n",
    "    # Ensure 'FiscalYear' is treated as a string (you can also change this to integer if needed)\n",
    "    data['FiscalYear'] = data['FiscalYear'].astype(str)\n",
    "\n",
    "    # Filter the data for the given year\n",
    "    year_data = data[data['FiscalYear'] == str(year)]\n",
    "\n",
    "    # If no data for that year, exit function\n",
    "    if year_data.empty:\n",
    "        print(f\"No data available for {year}\")\n",
    "        return\n",
    "\n",
    "    # Group and aggregate data by FiscalYear\n",
    "    summary = year_data.groupby('FiscalYear')[['GrossPay', 'AnnualSalary']].sum().reset_index()\n",
    "\n",
    "    # Extract actual and expected values\n",
    "    actual = summary['GrossPay'].iloc[0]\n",
    "    expected = summary['AnnualSalary'].iloc[0]\n",
    "\n",
    "    # Calculate the discrepancy (absolute and percentage)\n",
    "    discrepancy = actual - expected\n",
    "    discrepancy_pct = (discrepancy / expected) * 100\n",
    "\n",
    "    # Create the gauge plot\n",
    "    steps = [\n",
    "        {'range': [0, expected], 'color': '#004080'}  # Dark blue for expected salary\n",
    "    ]\n",
    "    \n",
    "    # Add yellow step if actual exceeds expected\n",
    "    if actual > expected:\n",
    "        steps.append({'range': [expected, actual], 'color': 'yellow'})  # Yellow for actual salary\n",
    "    \n",
    "    fig = go.Figure(go.Indicator(\n",
    "        mode=\"gauge+number+delta\",\n",
    "        value=actual,\n",
    "        delta={\n",
    "            'reference': expected,\n",
    "            'increasing': {'color': \"red\"},\n",
    "            'decreasing': {'color': \"green\"}\n",
    "        },\n",
    "        gauge={\n",
    "            'axis': {'range': [0, expected * 1.1]},  \n",
    "            'bar': {'color': 'rgba(0,0,0,0)'},\n",
    "            'steps': steps,\n",
    "            'threshold': {\n",
    "                'line': {'color': \"red\", 'width': 4},  \n",
    "                'thickness': .95,\n",
    "                'value': actual  # Place the red line at the actual\n",
    "            }\n",
    "        },\n",
    "        title={'text': f\"{year} Budgeted Salary Spend vs. Salary Spend Actual\", 'font': {'size': 20}},\n",
    "    ))\n",
    "\n",
    "    fig.update_layout(\n",
    "        title_font={'size': 20},  # Set font size for the overall layout title\n",
    "    )\n",
    "\n",
    "    # Display the discrepancy\n",
    "    # print(f\"Discrepancy for {year}: ${discrepancy:,.2f} ({discrepancy_pct:.2f}%)\")\n",
    "\n",
    "    # Show the figure\n",
    "    fig.show()\n",
    "\n",
    "# Example usage:\n",
    "plot_info(2024, sal)"
   ]
  },
  {
   "cell_type": "code",
   "execution_count": 11,
   "metadata": {},
   "outputs": [
    {
     "data": {
      "text/html": [
       "<div>\n",
       "<style scoped>\n",
       "    .dataframe tbody tr th:only-of-type {\n",
       "        vertical-align: middle;\n",
       "    }\n",
       "\n",
       "    .dataframe tbody tr th {\n",
       "        vertical-align: top;\n",
       "    }\n",
       "\n",
       "    .dataframe thead th {\n",
       "        text-align: right;\n",
       "    }\n",
       "</style>\n",
       "<table border=\"1\" class=\"dataframe\">\n",
       "  <thead>\n",
       "    <tr style=\"text-align: right;\">\n",
       "      <th></th>\n",
       "      <th>ID</th>\n",
       "      <th>Name</th>\n",
       "      <th>JobTitle</th>\n",
       "      <th>AgencyID</th>\n",
       "      <th>AgencyName</th>\n",
       "      <th>HireDate</th>\n",
       "      <th>AnnualSalary</th>\n",
       "      <th>GrossPay</th>\n",
       "      <th>FiscalYear</th>\n",
       "      <th>Pay_Discrepancy</th>\n",
       "      <th>Pay_Discrepancy_Pct</th>\n",
       "    </tr>\n",
       "  </thead>\n",
       "  <tbody>\n",
       "    <tr>\n",
       "      <th>0</th>\n",
       "      <td>1</td>\n",
       "      <td>Aaron,Patricia G</td>\n",
       "      <td>Facilities/Office Services II</td>\n",
       "      <td>A03</td>\n",
       "      <td>OED-Employment Dev</td>\n",
       "      <td>1979-10-24</td>\n",
       "      <td>50845.0</td>\n",
       "      <td>45505.94</td>\n",
       "      <td>2011</td>\n",
       "      <td>-5339.06</td>\n",
       "      <td>-10.500659</td>\n",
       "    </tr>\n",
       "  </tbody>\n",
       "</table>\n",
       "</div>"
      ],
      "text/plain": [
       "   ID              Name                       JobTitle AgencyID  \\\n",
       "0   1  Aaron,Patricia G  Facilities/Office Services II      A03   \n",
       "\n",
       "           AgencyName   HireDate  AnnualSalary  GrossPay FiscalYear  \\\n",
       "0  OED-Employment Dev 1979-10-24       50845.0  45505.94       2011   \n",
       "\n",
       "   Pay_Discrepancy  Pay_Discrepancy_Pct  \n",
       "0         -5339.06           -10.500659  "
      ]
     },
     "execution_count": 11,
     "metadata": {},
     "output_type": "execute_result"
    }
   ],
   "source": [
    "sal.head(1)"
   ]
  },
  {
   "cell_type": "code",
   "execution_count": 12,
   "metadata": {},
   "outputs": [
    {
     "data": {
      "text/plain": [
       "'995,073,679.88'"
      ]
     },
     "execution_count": 12,
     "metadata": {},
     "output_type": "execute_result"
    }
   ],
   "source": [
    "# code for 7\n",
    "def calculate_total_spend(year, data) -> str:\n",
    "    # Filter the data for the specified year\n",
    "    year_filter = data[data['FiscalYear'] == str(year)]\n",
    "    \n",
    "    # Calculate the sum of 'YTD_Total' for the filtered data\n",
    "    total_spend = year_filter['GrossPay'].sum().round(2)\n",
    "\n",
    "    # Formats thousands separators\n",
    "    total_spend = \"{:,.2f}\".format(total_spend)\n",
    "    \n",
    "    # Return the total spend as a float\n",
    "    return str(total_spend)\n",
    "\n",
    "# Example usage:\n",
    "year = 2024\n",
    "total_spend = calculate_total_spend(year, sal)\n",
    "total_spend"
   ]
  },
  {
   "cell_type": "code",
   "execution_count": 13,
   "metadata": {},
   "outputs": [
    {
     "data": {
      "text/plain": [
       "'837,383,583.61'"
      ]
     },
     "execution_count": 13,
     "metadata": {},
     "output_type": "execute_result"
    }
   ],
   "source": [
    "# code for 9 \n",
    "def calculate_total_budget(year, data) -> str:\n",
    "    # Filter the data for the specified year\n",
    "    year_filter = data[data['FiscalYear'] == str(year)]\n",
    "    \n",
    "    # Calculate the sum of 'Salary_Total' for the filtered data\n",
    "    total_spend = year_filter['AnnualSalary'].sum().round(2)\n",
    "\n",
    "    # Formats thousands separators\n",
    "    total_spend = \"{:,.2f}\".format(total_spend)\n",
    "    \n",
    "    # Return the total spend as a float\n",
    "    return str(total_spend)\n",
    "\n",
    "# Example usage:\n",
    "year = 2024\n",
    "total_budget = calculate_total_budget(year, sal)\n",
    "total_budget"
   ]
  },
  {
   "cell_type": "code",
   "execution_count": 14,
   "metadata": {},
   "outputs": [
    {
     "data": {
      "text/plain": [
       "'+18.83%'"
      ]
     },
     "execution_count": 14,
     "metadata": {},
     "output_type": "execute_result"
    }
   ],
   "source": [
    "#code for 12\n",
    "def calculate_budget_difference(year, data) -> str:\n",
    "    # Filter the data for the specified year\n",
    "    year_filter = data[data['FiscalYear'] == str(year)]\n",
    "    \n",
    "    if year_filter.empty:\n",
    "        return \"No data for the specified year.\"\n",
    "    \n",
    "    # Extract actual and expected values\n",
    "    actual_spend = year_filter['GrossPay'].sum()\n",
    "    budgeted_salary = year_filter['AnnualSalary'].sum()\n",
    "\n",
    "    # Calculate the percentage difference\n",
    "    difference = ((actual_spend - budgeted_salary) / budgeted_salary) * 100\n",
    "    \n",
    "    # Format the difference with a '+' or '-' and thousands separators\n",
    "    return f\"{difference:+,.2f}%\"\n",
    "\n",
    "# Example usage:\n",
    "year = 2024\n",
    "budget_difference = calculate_budget_difference(year, sal)\n",
    "budget_difference"
   ]
  },
  {
   "cell_type": "code",
   "execution_count": 15,
   "metadata": {},
   "outputs": [
    {
     "data": {
      "text/html": [
       "<div>\n",
       "<style scoped>\n",
       "    .dataframe tbody tr th:only-of-type {\n",
       "        vertical-align: middle;\n",
       "    }\n",
       "\n",
       "    .dataframe tbody tr th {\n",
       "        vertical-align: top;\n",
       "    }\n",
       "\n",
       "    .dataframe thead th {\n",
       "        text-align: right;\n",
       "    }\n",
       "</style>\n",
       "<table border=\"1\" class=\"dataframe\">\n",
       "  <thead>\n",
       "    <tr style=\"text-align: right;\">\n",
       "      <th></th>\n",
       "      <th>FiscalYear</th>\n",
       "      <th>Name</th>\n",
       "      <th>AgencyName</th>\n",
       "      <th>JobTitle</th>\n",
       "      <th>AnnualSalary</th>\n",
       "      <th>GrossPay</th>\n",
       "      <th>Pay_Discrepancy</th>\n",
       "      <th>Pay_Discrepancy_Pct</th>\n",
       "    </tr>\n",
       "  </thead>\n",
       "  <tbody>\n",
       "    <tr>\n",
       "      <th>0</th>\n",
       "      <td>2024</td>\n",
       "      <td>Lunsford,David</td>\n",
       "      <td>Fire Department</td>\n",
       "      <td>62712 - Paramedic, EMT-P</td>\n",
       "      <td>113157.85</td>\n",
       "      <td>358586.44</td>\n",
       "      <td>245428.59</td>\n",
       "      <td>216.89</td>\n",
       "    </tr>\n",
       "    <tr>\n",
       "      <th>1</th>\n",
       "      <td>2024</td>\n",
       "      <td>Harris,William</td>\n",
       "      <td>Police Department</td>\n",
       "      <td>41112 - Police Sergeant</td>\n",
       "      <td>117663.00</td>\n",
       "      <td>324820.37</td>\n",
       "      <td>207157.37</td>\n",
       "      <td>176.06</td>\n",
       "    </tr>\n",
       "    <tr>\n",
       "      <th>2</th>\n",
       "      <td>2024</td>\n",
       "      <td>Wallace,Antonio</td>\n",
       "      <td>Fire Department</td>\n",
       "      <td>41209 - EMT Firefighter, Suppression</td>\n",
       "      <td>98769.35</td>\n",
       "      <td>290218.16</td>\n",
       "      <td>191448.81</td>\n",
       "      <td>193.83</td>\n",
       "    </tr>\n",
       "    <tr>\n",
       "      <th>3</th>\n",
       "      <td>2024</td>\n",
       "      <td>Booker,Jammie</td>\n",
       "      <td>Public Works - Water &amp; Waste Water</td>\n",
       "      <td>53516 - WWW Utilities Installer Repairer Super...</td>\n",
       "      <td>86404.98</td>\n",
       "      <td>268233.11</td>\n",
       "      <td>181828.13</td>\n",
       "      <td>210.44</td>\n",
       "    </tr>\n",
       "    <tr>\n",
       "      <th>4</th>\n",
       "      <td>2024</td>\n",
       "      <td>Pettis,Dennis</td>\n",
       "      <td>Fire Department</td>\n",
       "      <td>41268 - Fire Lieutenant, Safety and Risk Manag...</td>\n",
       "      <td>110128.59</td>\n",
       "      <td>285677.16</td>\n",
       "      <td>175548.57</td>\n",
       "      <td>159.40</td>\n",
       "    </tr>\n",
       "    <tr>\n",
       "      <th>5</th>\n",
       "      <td>2024</td>\n",
       "      <td>Mcmillian,Paul</td>\n",
       "      <td>Police Department</td>\n",
       "      <td>41112 - Police Sergeant</td>\n",
       "      <td>119984.00</td>\n",
       "      <td>295443.17</td>\n",
       "      <td>175459.17</td>\n",
       "      <td>146.24</td>\n",
       "    </tr>\n",
       "    <tr>\n",
       "      <th>6</th>\n",
       "      <td>2024</td>\n",
       "      <td>Whitted,Lakeshia</td>\n",
       "      <td>Police Department</td>\n",
       "      <td>41112 - Police Sergeant</td>\n",
       "      <td>118895.00</td>\n",
       "      <td>292142.04</td>\n",
       "      <td>173247.04</td>\n",
       "      <td>145.71</td>\n",
       "    </tr>\n",
       "    <tr>\n",
       "      <th>7</th>\n",
       "      <td>2024</td>\n",
       "      <td>Rondholz,Christopher</td>\n",
       "      <td>Fire Department</td>\n",
       "      <td>62712 - Paramedic, EMT-P</td>\n",
       "      <td>103159.97</td>\n",
       "      <td>276072.62</td>\n",
       "      <td>172912.65</td>\n",
       "      <td>167.62</td>\n",
       "    </tr>\n",
       "    <tr>\n",
       "      <th>8</th>\n",
       "      <td>2024</td>\n",
       "      <td>Parker,Leon</td>\n",
       "      <td>Fire Department</td>\n",
       "      <td>41211 - Firefighter Suppression</td>\n",
       "      <td>105158.93</td>\n",
       "      <td>273163.65</td>\n",
       "      <td>168004.72</td>\n",
       "      <td>159.76</td>\n",
       "    </tr>\n",
       "    <tr>\n",
       "      <th>9</th>\n",
       "      <td>2024</td>\n",
       "      <td>Lofton,Osiris</td>\n",
       "      <td>Police Department</td>\n",
       "      <td>41111 - Police Officer</td>\n",
       "      <td>99687.00</td>\n",
       "      <td>265123.51</td>\n",
       "      <td>165436.51</td>\n",
       "      <td>165.96</td>\n",
       "    </tr>\n",
       "    <tr>\n",
       "      <th>10</th>\n",
       "      <td>2024</td>\n",
       "      <td>Camarote,Marc</td>\n",
       "      <td>Police Department</td>\n",
       "      <td>41112 - Police Sergeant</td>\n",
       "      <td>120663.00</td>\n",
       "      <td>283534.21</td>\n",
       "      <td>162871.21</td>\n",
       "      <td>134.98</td>\n",
       "    </tr>\n",
       "    <tr>\n",
       "      <th>11</th>\n",
       "      <td>2024</td>\n",
       "      <td>Buchanan,Dayton</td>\n",
       "      <td>Fire Department</td>\n",
       "      <td>41211 - Firefighter Suppression</td>\n",
       "      <td>105158.93</td>\n",
       "      <td>267993.38</td>\n",
       "      <td>162834.45</td>\n",
       "      <td>154.85</td>\n",
       "    </tr>\n",
       "    <tr>\n",
       "      <th>12</th>\n",
       "      <td>2024</td>\n",
       "      <td>Anderson,Charles</td>\n",
       "      <td>Police Department</td>\n",
       "      <td>41113 - Police Lieutenant</td>\n",
       "      <td>137416.00</td>\n",
       "      <td>293853.17</td>\n",
       "      <td>156437.17</td>\n",
       "      <td>113.84</td>\n",
       "    </tr>\n",
       "    <tr>\n",
       "      <th>13</th>\n",
       "      <td>2024</td>\n",
       "      <td>Thomas,Ronald</td>\n",
       "      <td>Sheriff's Office</td>\n",
       "      <td>01401 - Deputy Sheriff</td>\n",
       "      <td>88564.00</td>\n",
       "      <td>243779.13</td>\n",
       "      <td>155215.13</td>\n",
       "      <td>175.26</td>\n",
       "    </tr>\n",
       "    <tr>\n",
       "      <th>14</th>\n",
       "      <td>2024</td>\n",
       "      <td>Talley,Damon</td>\n",
       "      <td>Police Department</td>\n",
       "      <td>41111 - Police Officer</td>\n",
       "      <td>101866.00</td>\n",
       "      <td>256106.33</td>\n",
       "      <td>154240.33</td>\n",
       "      <td>151.41</td>\n",
       "    </tr>\n",
       "    <tr>\n",
       "      <th>15</th>\n",
       "      <td>2024</td>\n",
       "      <td>Swinton,Kimberly</td>\n",
       "      <td>Police Department</td>\n",
       "      <td>41112 - Police Sergeant</td>\n",
       "      <td>117663.00</td>\n",
       "      <td>271240.89</td>\n",
       "      <td>153577.89</td>\n",
       "      <td>130.52</td>\n",
       "    </tr>\n",
       "    <tr>\n",
       "      <th>16</th>\n",
       "      <td>2024</td>\n",
       "      <td>Nowowiejski,Wayne</td>\n",
       "      <td>Fire Department</td>\n",
       "      <td>41213 - Fire Captain, Suppression</td>\n",
       "      <td>127290.91</td>\n",
       "      <td>278315.04</td>\n",
       "      <td>151024.13</td>\n",
       "      <td>118.64</td>\n",
       "    </tr>\n",
       "    <tr>\n",
       "      <th>17</th>\n",
       "      <td>2024</td>\n",
       "      <td>Klinges,Annemarie</td>\n",
       "      <td>Police Department</td>\n",
       "      <td>41111 - Police Officer</td>\n",
       "      <td>104866.00</td>\n",
       "      <td>255208.05</td>\n",
       "      <td>150342.05</td>\n",
       "      <td>143.37</td>\n",
       "    </tr>\n",
       "    <tr>\n",
       "      <th>18</th>\n",
       "      <td>2024</td>\n",
       "      <td>Black,Kirk</td>\n",
       "      <td>Police Department</td>\n",
       "      <td>41112 - Police Sergeant</td>\n",
       "      <td>119574.00</td>\n",
       "      <td>269811.31</td>\n",
       "      <td>150237.31</td>\n",
       "      <td>125.64</td>\n",
       "    </tr>\n",
       "    <tr>\n",
       "      <th>19</th>\n",
       "      <td>2024</td>\n",
       "      <td>Smith,Eric L</td>\n",
       "      <td>Public Works - Water &amp; Waste Water</td>\n",
       "      <td>54334 - WWW Technician Supervisor I Sanitary</td>\n",
       "      <td>75631.00</td>\n",
       "      <td>225686.34</td>\n",
       "      <td>150055.34</td>\n",
       "      <td>198.40</td>\n",
       "    </tr>\n",
       "  </tbody>\n",
       "</table>\n",
       "</div>"
      ],
      "text/plain": [
       "   FiscalYear                  Name                          AgencyName  \\\n",
       "0        2024        Lunsford,David                     Fire Department   \n",
       "1        2024        Harris,William                   Police Department   \n",
       "2        2024       Wallace,Antonio                     Fire Department   \n",
       "3        2024         Booker,Jammie  Public Works - Water & Waste Water   \n",
       "4        2024         Pettis,Dennis                     Fire Department   \n",
       "5        2024        Mcmillian,Paul                   Police Department   \n",
       "6        2024      Whitted,Lakeshia                   Police Department   \n",
       "7        2024  Rondholz,Christopher                     Fire Department   \n",
       "8        2024           Parker,Leon                     Fire Department   \n",
       "9        2024         Lofton,Osiris                   Police Department   \n",
       "10       2024         Camarote,Marc                   Police Department   \n",
       "11       2024       Buchanan,Dayton                     Fire Department   \n",
       "12       2024      Anderson,Charles                   Police Department   \n",
       "13       2024         Thomas,Ronald                    Sheriff's Office   \n",
       "14       2024          Talley,Damon                   Police Department   \n",
       "15       2024      Swinton,Kimberly                   Police Department   \n",
       "16       2024     Nowowiejski,Wayne                     Fire Department   \n",
       "17       2024     Klinges,Annemarie                   Police Department   \n",
       "18       2024            Black,Kirk                   Police Department   \n",
       "19       2024          Smith,Eric L  Public Works - Water & Waste Water   \n",
       "\n",
       "                                             JobTitle  AnnualSalary  \\\n",
       "0                            62712 - Paramedic, EMT-P     113157.85   \n",
       "1                             41112 - Police Sergeant     117663.00   \n",
       "2                41209 - EMT Firefighter, Suppression      98769.35   \n",
       "3   53516 - WWW Utilities Installer Repairer Super...      86404.98   \n",
       "4   41268 - Fire Lieutenant, Safety and Risk Manag...     110128.59   \n",
       "5                             41112 - Police Sergeant     119984.00   \n",
       "6                             41112 - Police Sergeant     118895.00   \n",
       "7                            62712 - Paramedic, EMT-P     103159.97   \n",
       "8                     41211 - Firefighter Suppression     105158.93   \n",
       "9                              41111 - Police Officer      99687.00   \n",
       "10                            41112 - Police Sergeant     120663.00   \n",
       "11                    41211 - Firefighter Suppression     105158.93   \n",
       "12                          41113 - Police Lieutenant     137416.00   \n",
       "13                             01401 - Deputy Sheriff      88564.00   \n",
       "14                             41111 - Police Officer     101866.00   \n",
       "15                            41112 - Police Sergeant     117663.00   \n",
       "16                  41213 - Fire Captain, Suppression     127290.91   \n",
       "17                             41111 - Police Officer     104866.00   \n",
       "18                            41112 - Police Sergeant     119574.00   \n",
       "19       54334 - WWW Technician Supervisor I Sanitary      75631.00   \n",
       "\n",
       "     GrossPay  Pay_Discrepancy  Pay_Discrepancy_Pct  \n",
       "0   358586.44        245428.59               216.89  \n",
       "1   324820.37        207157.37               176.06  \n",
       "2   290218.16        191448.81               193.83  \n",
       "3   268233.11        181828.13               210.44  \n",
       "4   285677.16        175548.57               159.40  \n",
       "5   295443.17        175459.17               146.24  \n",
       "6   292142.04        173247.04               145.71  \n",
       "7   276072.62        172912.65               167.62  \n",
       "8   273163.65        168004.72               159.76  \n",
       "9   265123.51        165436.51               165.96  \n",
       "10  283534.21        162871.21               134.98  \n",
       "11  267993.38        162834.45               154.85  \n",
       "12  293853.17        156437.17               113.84  \n",
       "13  243779.13        155215.13               175.26  \n",
       "14  256106.33        154240.33               151.41  \n",
       "15  271240.89        153577.89               130.52  \n",
       "16  278315.04        151024.13               118.64  \n",
       "17  255208.05        150342.05               143.37  \n",
       "18  269811.31        150237.31               125.64  \n",
       "19  225686.34        150055.34               198.40  "
      ]
     },
     "execution_count": 15,
     "metadata": {},
     "output_type": "execute_result"
    }
   ],
   "source": [
    "# code for 10\n",
    "def top_emp_dev(year, data):\n",
    "    # we had to avoid division by zero and only calculate Discrepancy_Percent for employees with Salary_Total >= 20k\n",
    "    # Filter the data for the given year\n",
    "    top_employee = data[data['FiscalYear'] == str(year)].copy()\n",
    "\n",
    "    # Round the Discrepancy_Percent to 2 decimal places\n",
    "    top_employee['Pay_Discrepancy_Pct'] = top_employee['Pay_Discrepancy_Pct'].round(2)\n",
    "\n",
    "    # handle Salary_Total < 20k\n",
    "    top_employee = top_employee[top_employee['AnnualSalary'] >= 10000]\n",
    "\n",
    "    # Sort the DataFrame by 'Discrepancy_Percent' in descending order\n",
    "    top_employee = top_employee.sort_values(by='Pay_Discrepancy', ascending=False)\n",
    "\n",
    "    # Keep only the specified columns\n",
    "    top_employee = top_employee[['FiscalYear', 'Name', 'AgencyName', 'JobTitle',\n",
    "                                 'AnnualSalary', 'GrossPay',\n",
    "                                 'Pay_Discrepancy', 'Pay_Discrepancy_Pct']]\n",
    "    \n",
    "    # Reset index and drop the old index column\n",
    "    top_employee.reset_index(drop=True, inplace=True)\n",
    "\n",
    "    return top_employee.head(20)\n",
    "\n",
    "# Example usage:\n",
    "year = 2024\n",
    "top_employee = top_emp_dev(year, sal)\n",
    "top_employee"
   ]
  },
  {
   "cell_type": "code",
   "execution_count": 16,
   "metadata": {},
   "outputs": [
    {
     "data": {
      "text/html": [
       "<div>\n",
       "<style scoped>\n",
       "    .dataframe tbody tr th:only-of-type {\n",
       "        vertical-align: middle;\n",
       "    }\n",
       "\n",
       "    .dataframe tbody tr th {\n",
       "        vertical-align: top;\n",
       "    }\n",
       "\n",
       "    .dataframe thead th {\n",
       "        text-align: right;\n",
       "    }\n",
       "</style>\n",
       "<table border=\"1\" class=\"dataframe\">\n",
       "  <thead>\n",
       "    <tr style=\"text-align: right;\">\n",
       "      <th></th>\n",
       "      <th>FiscalYear</th>\n",
       "      <th>AgencyName</th>\n",
       "      <th>Total Salary Spend</th>\n",
       "      <th>Salary Budget</th>\n",
       "      <th>Discrepancy Percent</th>\n",
       "    </tr>\n",
       "  </thead>\n",
       "  <tbody>\n",
       "    <tr>\n",
       "      <th>771</th>\n",
       "      <td>2024</td>\n",
       "      <td>SCS - Special City Services</td>\n",
       "      <td>100,000.16</td>\n",
       "      <td>40,000.00</td>\n",
       "      <td>150.00</td>\n",
       "    </tr>\n",
       "    <tr>\n",
       "      <th>734</th>\n",
       "      <td>2024</td>\n",
       "      <td>Environmental Control Board</td>\n",
       "      <td>511,739.04</td>\n",
       "      <td>291,787.73</td>\n",
       "      <td>75.38</td>\n",
       "    </tr>\n",
       "    <tr>\n",
       "      <th>765</th>\n",
       "      <td>2024</td>\n",
       "      <td>Rec &amp; Parks</td>\n",
       "      <td>755,060.15</td>\n",
       "      <td>525,899.88</td>\n",
       "      <td>43.57</td>\n",
       "    </tr>\n",
       "    <tr>\n",
       "      <th>772</th>\n",
       "      <td>2024</td>\n",
       "      <td>Sheriff's Office</td>\n",
       "      <td>18,498,417.24</td>\n",
       "      <td>13,231,376.62</td>\n",
       "      <td>39.81</td>\n",
       "    </tr>\n",
       "    <tr>\n",
       "      <th>760</th>\n",
       "      <td>2024</td>\n",
       "      <td>Police Department</td>\n",
       "      <td>297,457,816.59</td>\n",
       "      <td>213,743,592.03</td>\n",
       "      <td>39.17</td>\n",
       "    </tr>\n",
       "    <tr>\n",
       "      <th>776</th>\n",
       "      <td>2024</td>\n",
       "      <td>Transportation - Highways (weekly)</td>\n",
       "      <td>2,450,226.69</td>\n",
       "      <td>1,837,576.90</td>\n",
       "      <td>33.34</td>\n",
       "    </tr>\n",
       "    <tr>\n",
       "      <th>778</th>\n",
       "      <td>2024</td>\n",
       "      <td>Transportation - Traffic</td>\n",
       "      <td>10,276,118.54</td>\n",
       "      <td>7,899,913.22</td>\n",
       "      <td>30.08</td>\n",
       "    </tr>\n",
       "    <tr>\n",
       "      <th>741</th>\n",
       "      <td>2024</td>\n",
       "      <td>Fire Department</td>\n",
       "      <td>174,812,249.53</td>\n",
       "      <td>134,862,957.02</td>\n",
       "      <td>29.62</td>\n",
       "    </tr>\n",
       "    <tr>\n",
       "      <th>763</th>\n",
       "      <td>2024</td>\n",
       "      <td>Public Works - Solid Waste (weekly)</td>\n",
       "      <td>10,682,540.95</td>\n",
       "      <td>8,350,693.89</td>\n",
       "      <td>27.92</td>\n",
       "    </tr>\n",
       "    <tr>\n",
       "      <th>767</th>\n",
       "      <td>2024</td>\n",
       "      <td>Recreation &amp; Parks - Parks</td>\n",
       "      <td>7,868,558.65</td>\n",
       "      <td>6,256,127.98</td>\n",
       "      <td>25.77</td>\n",
       "    </tr>\n",
       "    <tr>\n",
       "      <th>777</th>\n",
       "      <td>2024</td>\n",
       "      <td>Transportation - Towing</td>\n",
       "      <td>2,736,362.78</td>\n",
       "      <td>2,212,290.19</td>\n",
       "      <td>23.69</td>\n",
       "    </tr>\n",
       "    <tr>\n",
       "      <th>764</th>\n",
       "      <td>2024</td>\n",
       "      <td>Public Works - Water &amp; Waste Water</td>\n",
       "      <td>100,494,010.99</td>\n",
       "      <td>85,223,726.49</td>\n",
       "      <td>17.92</td>\n",
       "    </tr>\n",
       "    <tr>\n",
       "      <th>775</th>\n",
       "      <td>2024</td>\n",
       "      <td>Transportation - Highways</td>\n",
       "      <td>43,159,690.56</td>\n",
       "      <td>36,751,825.72</td>\n",
       "      <td>17.44</td>\n",
       "    </tr>\n",
       "    <tr>\n",
       "      <th>762</th>\n",
       "      <td>2024</td>\n",
       "      <td>Public Works - Solid Waste</td>\n",
       "      <td>26,602,972.93</td>\n",
       "      <td>22,723,218.69</td>\n",
       "      <td>17.07</td>\n",
       "    </tr>\n",
       "    <tr>\n",
       "      <th>768</th>\n",
       "      <td>2024</td>\n",
       "      <td>Recreation &amp; Parks - Recreation</td>\n",
       "      <td>7,007,797.64</td>\n",
       "      <td>6,137,515.43</td>\n",
       "      <td>14.18</td>\n",
       "    </tr>\n",
       "    <tr>\n",
       "      <th>742</th>\n",
       "      <td>2024</td>\n",
       "      <td>General Services</td>\n",
       "      <td>22,878,447.61</td>\n",
       "      <td>20,165,196.12</td>\n",
       "      <td>13.46</td>\n",
       "    </tr>\n",
       "    <tr>\n",
       "      <th>732</th>\n",
       "      <td>2024</td>\n",
       "      <td>Courts - Orphan's Court</td>\n",
       "      <td>476,240.50</td>\n",
       "      <td>436,650.48</td>\n",
       "      <td>9.07</td>\n",
       "    </tr>\n",
       "    <tr>\n",
       "      <th>749</th>\n",
       "      <td>2024</td>\n",
       "      <td>Liquor License Board</td>\n",
       "      <td>1,794,095.48</td>\n",
       "      <td>1,669,394.42</td>\n",
       "      <td>7.47</td>\n",
       "    </tr>\n",
       "    <tr>\n",
       "      <th>737</th>\n",
       "      <td>2024</td>\n",
       "      <td>Finance - Collections</td>\n",
       "      <td>6,130,606.79</td>\n",
       "      <td>5,775,976.13</td>\n",
       "      <td>6.14</td>\n",
       "    </tr>\n",
       "    <tr>\n",
       "      <th>720</th>\n",
       "      <td>2024</td>\n",
       "      <td>BCIT 311 Call Center</td>\n",
       "      <td>3,031,334.42</td>\n",
       "      <td>2,903,281.32</td>\n",
       "      <td>4.41</td>\n",
       "    </tr>\n",
       "    <tr>\n",
       "      <th>727</th>\n",
       "      <td>2024</td>\n",
       "      <td>Comptroller - Communication Services</td>\n",
       "      <td>1,560,140.92</td>\n",
       "      <td>1,541,736.00</td>\n",
       "      <td>1.19</td>\n",
       "    </tr>\n",
       "    <tr>\n",
       "      <th>733</th>\n",
       "      <td>2024</td>\n",
       "      <td>Enoch Pratt Free Library</td>\n",
       "      <td>21,957,533.69</td>\n",
       "      <td>21,747,197.44</td>\n",
       "      <td>0.97</td>\n",
       "    </tr>\n",
       "    <tr>\n",
       "      <th>728</th>\n",
       "      <td>2024</td>\n",
       "      <td>Comptroller - Real Estate</td>\n",
       "      <td>787,847.47</td>\n",
       "      <td>786,238.40</td>\n",
       "      <td>0.20</td>\n",
       "    </tr>\n",
       "    <tr>\n",
       "      <th>748</th>\n",
       "      <td>2024</td>\n",
       "      <td>Legislative Reference</td>\n",
       "      <td>487,034.16</td>\n",
       "      <td>486,133.53</td>\n",
       "      <td>0.19</td>\n",
       "    </tr>\n",
       "    <tr>\n",
       "      <th>724</th>\n",
       "      <td>2024</td>\n",
       "      <td>Comptroller</td>\n",
       "      <td>1,546,834.22</td>\n",
       "      <td>1,548,637.61</td>\n",
       "      <td>-0.12</td>\n",
       "    </tr>\n",
       "    <tr>\n",
       "      <th>743</th>\n",
       "      <td>2024</td>\n",
       "      <td>Health Department</td>\n",
       "      <td>38,847,969.61</td>\n",
       "      <td>39,252,594.76</td>\n",
       "      <td>-1.03</td>\n",
       "    </tr>\n",
       "    <tr>\n",
       "      <th>729</th>\n",
       "      <td>2024</td>\n",
       "      <td>Convention Center</td>\n",
       "      <td>7,802,619.51</td>\n",
       "      <td>7,912,391.26</td>\n",
       "      <td>-1.39</td>\n",
       "    </tr>\n",
       "    <tr>\n",
       "      <th>766</th>\n",
       "      <td>2024</td>\n",
       "      <td>Recreation &amp; Parks - Administration</td>\n",
       "      <td>8,692,762.13</td>\n",
       "      <td>8,823,374.59</td>\n",
       "      <td>-1.48</td>\n",
       "    </tr>\n",
       "    <tr>\n",
       "      <th>746</th>\n",
       "      <td>2024</td>\n",
       "      <td>Labor Commissioner's Office</td>\n",
       "      <td>671,333.03</td>\n",
       "      <td>682,040.78</td>\n",
       "      <td>-1.57</td>\n",
       "    </tr>\n",
       "    <tr>\n",
       "      <th>735</th>\n",
       "      <td>2024</td>\n",
       "      <td>Finance - Accounting &amp; Payroll</td>\n",
       "      <td>1,761,646.00</td>\n",
       "      <td>1,792,996.26</td>\n",
       "      <td>-1.75</td>\n",
       "    </tr>\n",
       "    <tr>\n",
       "      <th>774</th>\n",
       "      <td>2024</td>\n",
       "      <td>Transportation - Crossing Guards</td>\n",
       "      <td>101,227.76</td>\n",
       "      <td>103,058.20</td>\n",
       "      <td>-1.78</td>\n",
       "    </tr>\n",
       "    <tr>\n",
       "      <th>750</th>\n",
       "      <td>2024</td>\n",
       "      <td>MOCFS</td>\n",
       "      <td>6,459,569.36</td>\n",
       "      <td>6,595,658.66</td>\n",
       "      <td>-2.06</td>\n",
       "    </tr>\n",
       "    <tr>\n",
       "      <th>721</th>\n",
       "      <td>2024</td>\n",
       "      <td>Baltimore City Office of Information and Techn...</td>\n",
       "      <td>9,933,222.84</td>\n",
       "      <td>10,180,030.50</td>\n",
       "      <td>-2.42</td>\n",
       "    </tr>\n",
       "    <tr>\n",
       "      <th>740</th>\n",
       "      <td>2024</td>\n",
       "      <td>Finance - Treasury</td>\n",
       "      <td>659,425.07</td>\n",
       "      <td>678,645.52</td>\n",
       "      <td>-2.83</td>\n",
       "    </tr>\n",
       "    <tr>\n",
       "      <th>751</th>\n",
       "      <td>2024</td>\n",
       "      <td>MONSE</td>\n",
       "      <td>3,688,045.95</td>\n",
       "      <td>3,800,147.04</td>\n",
       "      <td>-2.95</td>\n",
       "    </tr>\n",
       "    <tr>\n",
       "      <th>739</th>\n",
       "      <td>2024</td>\n",
       "      <td>Finance - Risk Management</td>\n",
       "      <td>536,422.51</td>\n",
       "      <td>552,788.83</td>\n",
       "      <td>-2.96</td>\n",
       "    </tr>\n",
       "    <tr>\n",
       "      <th>723</th>\n",
       "      <td>2024</td>\n",
       "      <td>City Council</td>\n",
       "      <td>4,893,902.06</td>\n",
       "      <td>5,060,023.14</td>\n",
       "      <td>-3.28</td>\n",
       "    </tr>\n",
       "    <tr>\n",
       "      <th>761</th>\n",
       "      <td>2024</td>\n",
       "      <td>Public Works - Administration</td>\n",
       "      <td>18,660,466.76</td>\n",
       "      <td>19,370,388.11</td>\n",
       "      <td>-3.66</td>\n",
       "    </tr>\n",
       "    <tr>\n",
       "      <th>738</th>\n",
       "      <td>2024</td>\n",
       "      <td>Finance - Purchasing</td>\n",
       "      <td>3,262,690.22</td>\n",
       "      <td>3,394,603.67</td>\n",
       "      <td>-3.89</td>\n",
       "    </tr>\n",
       "    <tr>\n",
       "      <th>744</th>\n",
       "      <td>2024</td>\n",
       "      <td>Housing &amp; Community Development</td>\n",
       "      <td>23,645,230.99</td>\n",
       "      <td>24,609,106.59</td>\n",
       "      <td>-3.92</td>\n",
       "    </tr>\n",
       "    <tr>\n",
       "      <th>770</th>\n",
       "      <td>2024</td>\n",
       "      <td>Retire - Fire Department &amp; Police Department</td>\n",
       "      <td>2,687,903.00</td>\n",
       "      <td>2,805,537.38</td>\n",
       "      <td>-4.19</td>\n",
       "    </tr>\n",
       "    <tr>\n",
       "      <th>773</th>\n",
       "      <td>2024</td>\n",
       "      <td>State's Attorney's Office</td>\n",
       "      <td>26,167,124.66</td>\n",
       "      <td>27,328,883.68</td>\n",
       "      <td>-4.25</td>\n",
       "    </tr>\n",
       "    <tr>\n",
       "      <th>747</th>\n",
       "      <td>2024</td>\n",
       "      <td>Law Department</td>\n",
       "      <td>11,577,182.42</td>\n",
       "      <td>12,103,581.62</td>\n",
       "      <td>-4.35</td>\n",
       "    </tr>\n",
       "    <tr>\n",
       "      <th>769</th>\n",
       "      <td>2024</td>\n",
       "      <td>Retire - ERS/EOS</td>\n",
       "      <td>2,899,393.87</td>\n",
       "      <td>3,038,357.07</td>\n",
       "      <td>-4.57</td>\n",
       "    </tr>\n",
       "    <tr>\n",
       "      <th>752</th>\n",
       "      <td>2024</td>\n",
       "      <td>Mayor's Office</td>\n",
       "      <td>11,291,595.78</td>\n",
       "      <td>11,844,167.94</td>\n",
       "      <td>-4.67</td>\n",
       "    </tr>\n",
       "    <tr>\n",
       "      <th>726</th>\n",
       "      <td>2024</td>\n",
       "      <td>Comptroller - Audits</td>\n",
       "      <td>2,483,381.24</td>\n",
       "      <td>2,609,450.04</td>\n",
       "      <td>-4.83</td>\n",
       "    </tr>\n",
       "    <tr>\n",
       "      <th>745</th>\n",
       "      <td>2024</td>\n",
       "      <td>Human Resources</td>\n",
       "      <td>6,027,913.72</td>\n",
       "      <td>6,336,694.73</td>\n",
       "      <td>-4.87</td>\n",
       "    </tr>\n",
       "    <tr>\n",
       "      <th>756</th>\n",
       "      <td>2024</td>\n",
       "      <td>Office of Equity and Civil Rights</td>\n",
       "      <td>2,656,026.50</td>\n",
       "      <td>2,812,936.07</td>\n",
       "      <td>-5.58</td>\n",
       "    </tr>\n",
       "    <tr>\n",
       "      <th>759</th>\n",
       "      <td>2024</td>\n",
       "      <td>Planning</td>\n",
       "      <td>3,895,918.20</td>\n",
       "      <td>4,142,647.67</td>\n",
       "      <td>-5.96</td>\n",
       "    </tr>\n",
       "    <tr>\n",
       "      <th>731</th>\n",
       "      <td>2024</td>\n",
       "      <td>Courts - Circuit Court</td>\n",
       "      <td>7,665,622.88</td>\n",
       "      <td>8,176,513.45</td>\n",
       "      <td>-6.25</td>\n",
       "    </tr>\n",
       "    <tr>\n",
       "      <th>736</th>\n",
       "      <td>2024</td>\n",
       "      <td>Finance - Administration &amp; Budgets</td>\n",
       "      <td>3,925,707.02</td>\n",
       "      <td>4,190,729.22</td>\n",
       "      <td>-6.32</td>\n",
       "    </tr>\n",
       "    <tr>\n",
       "      <th>753</th>\n",
       "      <td>2024</td>\n",
       "      <td>Mayor's Office of Employment Development</td>\n",
       "      <td>12,000,245.44</td>\n",
       "      <td>12,952,645.19</td>\n",
       "      <td>-7.35</td>\n",
       "    </tr>\n",
       "    <tr>\n",
       "      <th>757</th>\n",
       "      <td>2024</td>\n",
       "      <td>Office of Small and Minority Business Advocacy...</td>\n",
       "      <td>1,527,161.75</td>\n",
       "      <td>1,663,080.25</td>\n",
       "      <td>-8.17</td>\n",
       "    </tr>\n",
       "    <tr>\n",
       "      <th>758</th>\n",
       "      <td>2024</td>\n",
       "      <td>Office of the Inspector General</td>\n",
       "      <td>1,214,555.61</td>\n",
       "      <td>1,346,576.21</td>\n",
       "      <td>-9.80</td>\n",
       "    </tr>\n",
       "    <tr>\n",
       "      <th>754</th>\n",
       "      <td>2024</td>\n",
       "      <td>Mayor's Office of Homeless Services</td>\n",
       "      <td>3,758,942.47</td>\n",
       "      <td>4,188,812.63</td>\n",
       "      <td>-10.26</td>\n",
       "    </tr>\n",
       "    <tr>\n",
       "      <th>755</th>\n",
       "      <td>2024</td>\n",
       "      <td>Municipal Zoning &amp; Appeals</td>\n",
       "      <td>337,886.66</td>\n",
       "      <td>379,800.54</td>\n",
       "      <td>-11.04</td>\n",
       "    </tr>\n",
       "    <tr>\n",
       "      <th>725</th>\n",
       "      <td>2024</td>\n",
       "      <td>Comptroller - Accounts Payable</td>\n",
       "      <td>568,806.98</td>\n",
       "      <td>641,436.16</td>\n",
       "      <td>-11.32</td>\n",
       "    </tr>\n",
       "    <tr>\n",
       "      <th>730</th>\n",
       "      <td>2024</td>\n",
       "      <td>Councilmatic Services</td>\n",
       "      <td>391,748.14</td>\n",
       "      <td>469,341.48</td>\n",
       "      <td>-16.53</td>\n",
       "    </tr>\n",
       "    <tr>\n",
       "      <th>722</th>\n",
       "      <td>2024</td>\n",
       "      <td>Cable &amp; Communications</td>\n",
       "      <td>316,352.04</td>\n",
       "      <td>395,601.13</td>\n",
       "      <td>-20.03</td>\n",
       "    </tr>\n",
       "  </tbody>\n",
       "</table>\n",
       "</div>"
      ],
      "text/plain": [
       "    FiscalYear                                         AgencyName  \\\n",
       "771       2024                        SCS - Special City Services   \n",
       "734       2024                        Environmental Control Board   \n",
       "765       2024                                        Rec & Parks   \n",
       "772       2024                                   Sheriff's Office   \n",
       "760       2024                                  Police Department   \n",
       "776       2024                 Transportation - Highways (weekly)   \n",
       "778       2024                           Transportation - Traffic   \n",
       "741       2024                                    Fire Department   \n",
       "763       2024                Public Works - Solid Waste (weekly)   \n",
       "767       2024                         Recreation & Parks - Parks   \n",
       "777       2024                            Transportation - Towing   \n",
       "764       2024                 Public Works - Water & Waste Water   \n",
       "775       2024                          Transportation - Highways   \n",
       "762       2024                         Public Works - Solid Waste   \n",
       "768       2024                    Recreation & Parks - Recreation   \n",
       "742       2024                                   General Services   \n",
       "732       2024                            Courts - Orphan's Court   \n",
       "749       2024                               Liquor License Board   \n",
       "737       2024                              Finance - Collections   \n",
       "720       2024                               BCIT 311 Call Center   \n",
       "727       2024               Comptroller - Communication Services   \n",
       "733       2024                           Enoch Pratt Free Library   \n",
       "728       2024                          Comptroller - Real Estate   \n",
       "748       2024                              Legislative Reference   \n",
       "724       2024                                        Comptroller   \n",
       "743       2024                                  Health Department   \n",
       "729       2024                                  Convention Center   \n",
       "766       2024                Recreation & Parks - Administration   \n",
       "746       2024                        Labor Commissioner's Office   \n",
       "735       2024                     Finance - Accounting & Payroll   \n",
       "774       2024                   Transportation - Crossing Guards   \n",
       "750       2024                                              MOCFS   \n",
       "721       2024  Baltimore City Office of Information and Techn...   \n",
       "740       2024                                 Finance - Treasury   \n",
       "751       2024                                              MONSE   \n",
       "739       2024                          Finance - Risk Management   \n",
       "723       2024                                       City Council   \n",
       "761       2024                      Public Works - Administration   \n",
       "738       2024                               Finance - Purchasing   \n",
       "744       2024                    Housing & Community Development   \n",
       "770       2024       Retire - Fire Department & Police Department   \n",
       "773       2024                          State's Attorney's Office   \n",
       "747       2024                                     Law Department   \n",
       "769       2024                                   Retire - ERS/EOS   \n",
       "752       2024                                     Mayor's Office   \n",
       "726       2024                               Comptroller - Audits   \n",
       "745       2024                                    Human Resources   \n",
       "756       2024                  Office of Equity and Civil Rights   \n",
       "759       2024                                           Planning   \n",
       "731       2024                             Courts - Circuit Court   \n",
       "736       2024                 Finance - Administration & Budgets   \n",
       "753       2024           Mayor's Office of Employment Development   \n",
       "757       2024  Office of Small and Minority Business Advocacy...   \n",
       "758       2024                    Office of the Inspector General   \n",
       "754       2024                Mayor's Office of Homeless Services   \n",
       "755       2024                         Municipal Zoning & Appeals   \n",
       "725       2024                     Comptroller - Accounts Payable   \n",
       "730       2024                              Councilmatic Services   \n",
       "722       2024                             Cable & Communications   \n",
       "\n",
       "    Total Salary Spend   Salary Budget  Discrepancy Percent  \n",
       "771         100,000.16       40,000.00               150.00  \n",
       "734         511,739.04      291,787.73                75.38  \n",
       "765         755,060.15      525,899.88                43.57  \n",
       "772      18,498,417.24   13,231,376.62                39.81  \n",
       "760     297,457,816.59  213,743,592.03                39.17  \n",
       "776       2,450,226.69    1,837,576.90                33.34  \n",
       "778      10,276,118.54    7,899,913.22                30.08  \n",
       "741     174,812,249.53  134,862,957.02                29.62  \n",
       "763      10,682,540.95    8,350,693.89                27.92  \n",
       "767       7,868,558.65    6,256,127.98                25.77  \n",
       "777       2,736,362.78    2,212,290.19                23.69  \n",
       "764     100,494,010.99   85,223,726.49                17.92  \n",
       "775      43,159,690.56   36,751,825.72                17.44  \n",
       "762      26,602,972.93   22,723,218.69                17.07  \n",
       "768       7,007,797.64    6,137,515.43                14.18  \n",
       "742      22,878,447.61   20,165,196.12                13.46  \n",
       "732         476,240.50      436,650.48                 9.07  \n",
       "749       1,794,095.48    1,669,394.42                 7.47  \n",
       "737       6,130,606.79    5,775,976.13                 6.14  \n",
       "720       3,031,334.42    2,903,281.32                 4.41  \n",
       "727       1,560,140.92    1,541,736.00                 1.19  \n",
       "733      21,957,533.69   21,747,197.44                 0.97  \n",
       "728         787,847.47      786,238.40                 0.20  \n",
       "748         487,034.16      486,133.53                 0.19  \n",
       "724       1,546,834.22    1,548,637.61                -0.12  \n",
       "743      38,847,969.61   39,252,594.76                -1.03  \n",
       "729       7,802,619.51    7,912,391.26                -1.39  \n",
       "766       8,692,762.13    8,823,374.59                -1.48  \n",
       "746         671,333.03      682,040.78                -1.57  \n",
       "735       1,761,646.00    1,792,996.26                -1.75  \n",
       "774         101,227.76      103,058.20                -1.78  \n",
       "750       6,459,569.36    6,595,658.66                -2.06  \n",
       "721       9,933,222.84   10,180,030.50                -2.42  \n",
       "740         659,425.07      678,645.52                -2.83  \n",
       "751       3,688,045.95    3,800,147.04                -2.95  \n",
       "739         536,422.51      552,788.83                -2.96  \n",
       "723       4,893,902.06    5,060,023.14                -3.28  \n",
       "761      18,660,466.76   19,370,388.11                -3.66  \n",
       "738       3,262,690.22    3,394,603.67                -3.89  \n",
       "744      23,645,230.99   24,609,106.59                -3.92  \n",
       "770       2,687,903.00    2,805,537.38                -4.19  \n",
       "773      26,167,124.66   27,328,883.68                -4.25  \n",
       "747      11,577,182.42   12,103,581.62                -4.35  \n",
       "769       2,899,393.87    3,038,357.07                -4.57  \n",
       "752      11,291,595.78   11,844,167.94                -4.67  \n",
       "726       2,483,381.24    2,609,450.04                -4.83  \n",
       "745       6,027,913.72    6,336,694.73                -4.87  \n",
       "756       2,656,026.50    2,812,936.07                -5.58  \n",
       "759       3,895,918.20    4,142,647.67                -5.96  \n",
       "731       7,665,622.88    8,176,513.45                -6.25  \n",
       "736       3,925,707.02    4,190,729.22                -6.32  \n",
       "753      12,000,245.44   12,952,645.19                -7.35  \n",
       "757       1,527,161.75    1,663,080.25                -8.17  \n",
       "758       1,214,555.61    1,346,576.21                -9.80  \n",
       "754       3,758,942.47    4,188,812.63               -10.26  \n",
       "755         337,886.66      379,800.54               -11.04  \n",
       "725         568,806.98      641,436.16               -11.32  \n",
       "730         391,748.14      469,341.48               -16.53  \n",
       "722         316,352.04      395,601.13               -20.03  "
      ]
     },
     "execution_count": 16,
     "metadata": {},
     "output_type": "execute_result"
    }
   ],
   "source": [
    "# code for 11\n",
    "def department_discrepancy(year, data):\n",
    "    # Group by 'CalYear' and 'Department', summing 'GrossPay' and 'AnnualSalary'\n",
    "    department = data.groupby(['FiscalYear', 'AgencyName'])[['GrossPay', 'AnnualSalary']].sum().reset_index()\n",
    "\n",
    "    # Filter the data by the given year\n",
    "    department = department[department['FiscalYear'] == str(year)]\n",
    "\n",
    "    # Calculate the percentage difference: ((GrossPay - AnnualSalary) / AnnualSalary) * 100\n",
    "    department['Pay_Discrepancy_Pct'] = ((department['GrossPay'] - department['AnnualSalary']) / department['AnnualSalary']) * 100\n",
    "\n",
    "    # Round the Pay_Discrepancy_Pct to 2 decimal places\n",
    "    department['Pay_Discrepancy_Pct'] = department['Pay_Discrepancy_Pct'].round(2)\n",
    "\n",
    "    # Sort the DataFrame by 'Pay_Discrepancy_Pct' in ascending order\n",
    "    department = department.sort_values(by='Pay_Discrepancy_Pct', ascending=False)\n",
    "\n",
    "    # Format 'GrossPay' and 'AnnualSalary' with thousands separators\n",
    "    department['GrossPay'] = department['GrossPay'].apply(lambda x: f\"{x:,.2f}\")\n",
    "    department['AnnualSalary'] = department['AnnualSalary'].apply(lambda x: f\"{x:,.2f}\")\n",
    "\n",
    "    # Rename columns for final output\n",
    "    department = department.rename(columns={\n",
    "        'GrossPay': 'Total Salary Spend',\n",
    "        'AnnualSalary': 'Salary Budget',\n",
    "        'Pay_Discrepancy_Pct': 'Discrepancy Percent'\n",
    "    })\n",
    "\n",
    "    # Return the result\n",
    "    return department\n",
    "\n",
    "# Example usage:\n",
    "year = 2024\n",
    "department = department_discrepancy(year, sal)\n",
    "department"
   ]
  },
  {
   "cell_type": "code",
   "execution_count": 17,
   "metadata": {},
   "outputs": [],
   "source": [
    "# sal.to_csv('data/salary_cleaned.csv', index=False)"
   ]
  },
  {
   "cell_type": "code",
   "execution_count": 18,
   "metadata": {},
   "outputs": [
    {
     "data": {
      "text/html": [
       "<div>\n",
       "<style scoped>\n",
       "    .dataframe tbody tr th:only-of-type {\n",
       "        vertical-align: middle;\n",
       "    }\n",
       "\n",
       "    .dataframe tbody tr th {\n",
       "        vertical-align: top;\n",
       "    }\n",
       "\n",
       "    .dataframe thead th {\n",
       "        text-align: right;\n",
       "    }\n",
       "</style>\n",
       "<table border=\"1\" class=\"dataframe\">\n",
       "  <thead>\n",
       "    <tr style=\"text-align: right;\">\n",
       "      <th></th>\n",
       "      <th>ID</th>\n",
       "      <th>Name</th>\n",
       "      <th>JobTitle</th>\n",
       "      <th>AgencyID</th>\n",
       "      <th>AgencyName</th>\n",
       "      <th>HireDate</th>\n",
       "      <th>AnnualSalary</th>\n",
       "      <th>GrossPay</th>\n",
       "      <th>FiscalYear</th>\n",
       "      <th>Pay_Discrepancy</th>\n",
       "      <th>Pay_Discrepancy_Pct</th>\n",
       "    </tr>\n",
       "  </thead>\n",
       "  <tbody>\n",
       "    <tr>\n",
       "      <th>0</th>\n",
       "      <td>1</td>\n",
       "      <td>Aaron,Patricia G</td>\n",
       "      <td>Facilities/Office Services II</td>\n",
       "      <td>A03</td>\n",
       "      <td>OED-Employment Dev</td>\n",
       "      <td>1979-10-24</td>\n",
       "      <td>50845.00</td>\n",
       "      <td>45505.94</td>\n",
       "      <td>2011</td>\n",
       "      <td>-5339.06</td>\n",
       "      <td>-10.500659</td>\n",
       "    </tr>\n",
       "    <tr>\n",
       "      <th>1</th>\n",
       "      <td>2</td>\n",
       "      <td>Aaron,Petra L</td>\n",
       "      <td>ASSISTANT STATE'S ATTORNEY</td>\n",
       "      <td>A29</td>\n",
       "      <td>States Attorneys Office</td>\n",
       "      <td>2006-09-25</td>\n",
       "      <td>56595.00</td>\n",
       "      <td>51588.89</td>\n",
       "      <td>2011</td>\n",
       "      <td>-5006.11</td>\n",
       "      <td>-8.845499</td>\n",
       "    </tr>\n",
       "    <tr>\n",
       "      <th>2</th>\n",
       "      <td>3</td>\n",
       "      <td>Abaineh,Yohannes T</td>\n",
       "      <td>EPIDEMIOLOGIST</td>\n",
       "      <td>A65</td>\n",
       "      <td>HLTH-Health Department</td>\n",
       "      <td>2009-07-23</td>\n",
       "      <td>56500.00</td>\n",
       "      <td>50633.26</td>\n",
       "      <td>2011</td>\n",
       "      <td>-5866.74</td>\n",
       "      <td>-10.383611</td>\n",
       "    </tr>\n",
       "    <tr>\n",
       "      <th>3</th>\n",
       "      <td>4</td>\n",
       "      <td>Abdal-Rahim,Naim A</td>\n",
       "      <td>EMT Firefighter</td>\n",
       "      <td>A64</td>\n",
       "      <td>Fire Department Academy Recruits</td>\n",
       "      <td>2011-03-30</td>\n",
       "      <td>33476.00</td>\n",
       "      <td>3888.95</td>\n",
       "      <td>2011</td>\n",
       "      <td>-29587.05</td>\n",
       "      <td>-88.382871</td>\n",
       "    </tr>\n",
       "    <tr>\n",
       "      <th>4</th>\n",
       "      <td>5</td>\n",
       "      <td>Abdi,Ezekiel W</td>\n",
       "      <td>POLICE OFFICER</td>\n",
       "      <td>A99</td>\n",
       "      <td>Police Department</td>\n",
       "      <td>2007-06-14</td>\n",
       "      <td>50919.00</td>\n",
       "      <td>51421.73</td>\n",
       "      <td>2011</td>\n",
       "      <td>502.73</td>\n",
       "      <td>0.987313</td>\n",
       "    </tr>\n",
       "    <tr>\n",
       "      <th>...</th>\n",
       "      <td>...</td>\n",
       "      <td>...</td>\n",
       "      <td>...</td>\n",
       "      <td>...</td>\n",
       "      <td>...</td>\n",
       "      <td>...</td>\n",
       "      <td>...</td>\n",
       "      <td>...</td>\n",
       "      <td>...</td>\n",
       "      <td>...</td>\n",
       "      <td>...</td>\n",
       "    </tr>\n",
       "    <tr>\n",
       "      <th>194419</th>\n",
       "      <td>263899</td>\n",
       "      <td>Zuberi,Ajamu</td>\n",
       "      <td>53513 - WWW Utilities Installer and Repairer III</td>\n",
       "      <td>A50</td>\n",
       "      <td>Public Works - Water &amp; Waste Water</td>\n",
       "      <td>2019-11-04</td>\n",
       "      <td>55750.00</td>\n",
       "      <td>97610.71</td>\n",
       "      <td>2024</td>\n",
       "      <td>41860.71</td>\n",
       "      <td>75.086475</td>\n",
       "    </tr>\n",
       "    <tr>\n",
       "      <th>194420</th>\n",
       "      <td>263900</td>\n",
       "      <td>Zuhoski,Timothy</td>\n",
       "      <td>41111 - Police Officer</td>\n",
       "      <td>A99</td>\n",
       "      <td>Police Department</td>\n",
       "      <td>2017-01-31</td>\n",
       "      <td>82859.00</td>\n",
       "      <td>153432.19</td>\n",
       "      <td>2024</td>\n",
       "      <td>70573.19</td>\n",
       "      <td>85.172631</td>\n",
       "    </tr>\n",
       "    <tr>\n",
       "      <th>194421</th>\n",
       "      <td>263901</td>\n",
       "      <td>Zuniga,Linette</td>\n",
       "      <td>61253 - Community Health Educator III</td>\n",
       "      <td>A65</td>\n",
       "      <td>Health Department</td>\n",
       "      <td>2018-10-18</td>\n",
       "      <td>55308.00</td>\n",
       "      <td>57092.31</td>\n",
       "      <td>2024</td>\n",
       "      <td>1784.31</td>\n",
       "      <td>3.226134</td>\n",
       "    </tr>\n",
       "    <tr>\n",
       "      <th>194422</th>\n",
       "      <td>263902</td>\n",
       "      <td>Zwick,Raymond</td>\n",
       "      <td>41111 - Police Officer</td>\n",
       "      <td>A99</td>\n",
       "      <td>Police Department</td>\n",
       "      <td>2023-05-15</td>\n",
       "      <td>68224.00</td>\n",
       "      <td>74099.65</td>\n",
       "      <td>2024</td>\n",
       "      <td>5875.65</td>\n",
       "      <td>8.612292</td>\n",
       "    </tr>\n",
       "    <tr>\n",
       "      <th>194423</th>\n",
       "      <td>263904</td>\n",
       "      <td>Zyla,David</td>\n",
       "      <td>62710 - Emergency Medical Technician</td>\n",
       "      <td>A64</td>\n",
       "      <td>Fire Department</td>\n",
       "      <td>2018-09-19</td>\n",
       "      <td>62730.55</td>\n",
       "      <td>104657.99</td>\n",
       "      <td>2024</td>\n",
       "      <td>41927.44</td>\n",
       "      <td>66.837354</td>\n",
       "    </tr>\n",
       "  </tbody>\n",
       "</table>\n",
       "<p>194424 rows × 11 columns</p>\n",
       "</div>"
      ],
      "text/plain": [
       "            ID                Name  \\\n",
       "0            1    Aaron,Patricia G   \n",
       "1            2       Aaron,Petra L   \n",
       "2            3  Abaineh,Yohannes T   \n",
       "3            4  Abdal-Rahim,Naim A   \n",
       "4            5      Abdi,Ezekiel W   \n",
       "...        ...                 ...   \n",
       "194419  263899        Zuberi,Ajamu   \n",
       "194420  263900     Zuhoski,Timothy   \n",
       "194421  263901      Zuniga,Linette   \n",
       "194422  263902       Zwick,Raymond   \n",
       "194423  263904          Zyla,David   \n",
       "\n",
       "                                                JobTitle AgencyID  \\\n",
       "0                          Facilities/Office Services II      A03   \n",
       "1                             ASSISTANT STATE'S ATTORNEY      A29   \n",
       "2                                         EPIDEMIOLOGIST      A65   \n",
       "3                                        EMT Firefighter      A64   \n",
       "4                                         POLICE OFFICER      A99   \n",
       "...                                                  ...      ...   \n",
       "194419  53513 - WWW Utilities Installer and Repairer III      A50   \n",
       "194420                            41111 - Police Officer      A99   \n",
       "194421             61253 - Community Health Educator III      A65   \n",
       "194422                            41111 - Police Officer      A99   \n",
       "194423              62710 - Emergency Medical Technician      A64   \n",
       "\n",
       "                                AgencyName    HireDate  AnnualSalary  \\\n",
       "0                       OED-Employment Dev  1979-10-24      50845.00   \n",
       "1                  States Attorneys Office  2006-09-25      56595.00   \n",
       "2                   HLTH-Health Department  2009-07-23      56500.00   \n",
       "3         Fire Department Academy Recruits  2011-03-30      33476.00   \n",
       "4                        Police Department  2007-06-14      50919.00   \n",
       "...                                    ...         ...           ...   \n",
       "194419  Public Works - Water & Waste Water  2019-11-04      55750.00   \n",
       "194420                   Police Department  2017-01-31      82859.00   \n",
       "194421                   Health Department  2018-10-18      55308.00   \n",
       "194422                   Police Department  2023-05-15      68224.00   \n",
       "194423                     Fire Department  2018-09-19      62730.55   \n",
       "\n",
       "         GrossPay  FiscalYear  Pay_Discrepancy  Pay_Discrepancy_Pct  \n",
       "0        45505.94        2011         -5339.06           -10.500659  \n",
       "1        51588.89        2011         -5006.11            -8.845499  \n",
       "2        50633.26        2011         -5866.74           -10.383611  \n",
       "3         3888.95        2011        -29587.05           -88.382871  \n",
       "4        51421.73        2011           502.73             0.987313  \n",
       "...           ...         ...              ...                  ...  \n",
       "194419   97610.71        2024         41860.71            75.086475  \n",
       "194420  153432.19        2024         70573.19            85.172631  \n",
       "194421   57092.31        2024          1784.31             3.226134  \n",
       "194422   74099.65        2024          5875.65             8.612292  \n",
       "194423  104657.99        2024         41927.44            66.837354  \n",
       "\n",
       "[194424 rows x 11 columns]"
      ]
     },
     "execution_count": 18,
     "metadata": {},
     "output_type": "execute_result"
    }
   ],
   "source": [
    "data = pd.read_csv('data/salary_cleaned.csv.zip', compression='zip')\n",
    "data"
   ]
  },
  {
   "cell_type": "code",
   "execution_count": 19,
   "metadata": {},
   "outputs": [
    {
     "data": {
      "text/html": [
       "<div>\n",
       "<style scoped>\n",
       "    .dataframe tbody tr th:only-of-type {\n",
       "        vertical-align: middle;\n",
       "    }\n",
       "\n",
       "    .dataframe tbody tr th {\n",
       "        vertical-align: top;\n",
       "    }\n",
       "\n",
       "    .dataframe thead th {\n",
       "        text-align: right;\n",
       "    }\n",
       "</style>\n",
       "<table border=\"1\" class=\"dataframe\">\n",
       "  <thead>\n",
       "    <tr style=\"text-align: right;\">\n",
       "      <th></th>\n",
       "      <th>ID</th>\n",
       "      <th>Name</th>\n",
       "      <th>JobTitle</th>\n",
       "      <th>AgencyID</th>\n",
       "      <th>AgencyName</th>\n",
       "      <th>HireDate</th>\n",
       "      <th>AnnualSalary</th>\n",
       "      <th>GrossPay</th>\n",
       "      <th>FiscalYear</th>\n",
       "      <th>Pay_Discrepancy</th>\n",
       "      <th>Pay_Discrepancy_Pct</th>\n",
       "    </tr>\n",
       "  </thead>\n",
       "  <tbody>\n",
       "    <tr>\n",
       "      <th>0</th>\n",
       "      <td>1</td>\n",
       "      <td>Aaron,Patricia G</td>\n",
       "      <td>Facilities/Office Services II</td>\n",
       "      <td>A03</td>\n",
       "      <td>OED-Employment Dev</td>\n",
       "      <td>1979-10-24</td>\n",
       "      <td>50845.0</td>\n",
       "      <td>45505.94</td>\n",
       "      <td>2011</td>\n",
       "      <td>-5339.06</td>\n",
       "      <td>-10.500659</td>\n",
       "    </tr>\n",
       "  </tbody>\n",
       "</table>\n",
       "</div>"
      ],
      "text/plain": [
       "   ID              Name                       JobTitle AgencyID  \\\n",
       "0   1  Aaron,Patricia G  Facilities/Office Services II      A03   \n",
       "\n",
       "           AgencyName    HireDate  AnnualSalary  GrossPay  FiscalYear  \\\n",
       "0  OED-Employment Dev  1979-10-24       50845.0  45505.94        2011   \n",
       "\n",
       "   Pay_Discrepancy  Pay_Discrepancy_Pct  \n",
       "0         -5339.06           -10.500659  "
      ]
     },
     "execution_count": 19,
     "metadata": {},
     "output_type": "execute_result"
    }
   ],
   "source": [
    "data = pd.read_csv('data/salary_cleaned.csv.zip', compression='zip')\n",
    "data.head(1)"
   ]
  }
 ],
 "metadata": {
  "kernelspec": {
   "display_name": "venv",
   "language": "python",
   "name": "python3"
  },
  "language_info": {
   "codemirror_mode": {
    "name": "ipython",
    "version": 3
   },
   "file_extension": ".py",
   "mimetype": "text/x-python",
   "name": "python",
   "nbconvert_exporter": "python",
   "pygments_lexer": "ipython3",
   "version": "3.12.2"
  }
 },
 "nbformat": 4,
 "nbformat_minor": 2
}
